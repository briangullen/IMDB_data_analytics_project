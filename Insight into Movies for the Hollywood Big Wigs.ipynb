{
 "cells": [
  {
   "cell_type": "markdown",
   "id": "5a3b5b5b-b884-442e-bdb6-647d519a469a",
   "metadata": {},
   "source": [
    "## Everything, Everywhere, All at Once:\n",
    "### A study in finding the hidden stories in chaotic datasets\n",
    "**Scenario:**<br><br>\n",
    "As data anlystis, we were tasked by some big movie executives to help them determine what kind of movie they should be working on next. Based on IMDb data we are looking to discover trends and relationships in the data that can help guide decisions on which project the movie studio should make next."
   ]
  },
  {
   "cell_type": "markdown",
   "id": "09f8c780-1995-491d-bc1f-8fc7a73c1773",
   "metadata": {},
   "source": [
    "### Questions for which we seek answers:\n",
    "1. How do movie genre trends change over time?<br>\n",
    "2. Actors impacts on ratings count and average<br>\n",
    "3. How popular are movies broken down by vote count?<br>\n",
    "4. Do certain genres receive more votes or get better ratings?<br>\n",
    "5. Do any correlations exist between movies aspects (e.g. Total Votes, Ratings, Runtime, etc.)"
   ]
  },
  {
   "cell_type": "markdown",
   "id": "c827b297",
   "metadata": {},
   "source": [
    "### Sections:\n",
    "* [Exploratory Data Analysis](#eda)\n",
    "* [Data Cleaning](#data-cleaning)"
   ]
  },
  {
   "cell_type": "markdown",
   "id": "1dd6aeea",
   "metadata": {},
   "source": [
    "#### Exploratory Data Analysis <a class=\"anchor\" id=\"eda\"></a>"
   ]
  },
  {
   "cell_type": "markdown",
   "id": "236b9881",
   "metadata": {},
   "source": [
    "First we need to import our libraries and dataframes we will be working with from IMDb."
   ]
  },
  {
   "cell_type": "code",
   "execution_count": 1,
   "id": "c78fefef-a343-4f6c-b0a6-9899926589fb",
   "metadata": {},
   "outputs": [],
   "source": [
    "import pandas as pd\n",
    "import seaborn as sns"
   ]
  },
  {
   "cell_type": "code",
   "execution_count": 2,
   "id": "a6d86c1a-c012-4f91-ae30-ae0b3047949b",
   "metadata": {},
   "outputs": [],
   "source": [
    "import warnings\n",
    "warnings.filterwarnings('ignore')"
   ]
  },
  {
   "cell_type": "code",
   "execution_count": 3,
   "id": "20c71940-e81c-448a-b73a-323ddc96aad8",
   "metadata": {},
   "outputs": [],
   "source": [
    "basics_df = pd.read_csv('Data/title.basics.tsv', sep='\\t')\n",
    "ratings_df = pd.read_csv('Data/title.ratings.tsv', sep='\\t')"
   ]
  },
  {
   "cell_type": "code",
   "execution_count": 4,
   "id": "820ad9ba",
   "metadata": {},
   "outputs": [],
   "source": [
    "names_df = pd.read_csv('Data/name.basics.tsv', sep='\\t')\n",
    "principals_df = pd.read_csv('Data/title.principals.tsv', sep='\\t')"
   ]
  },
  {
   "cell_type": "markdown",
   "id": "dd05f42e",
   "metadata": {},
   "source": [
    "We begin by looking at each data set to determine the datatypes and information available."
   ]
  },
  {
   "cell_type": "code",
   "execution_count": 5,
   "id": "852d77e0-1d86-45f7-9ce5-a687d5653446",
   "metadata": {},
   "outputs": [
    {
     "data": {
      "text/html": [
       "<div>\n",
       "<style scoped>\n",
       "    .dataframe tbody tr th:only-of-type {\n",
       "        vertical-align: middle;\n",
       "    }\n",
       "\n",
       "    .dataframe tbody tr th {\n",
       "        vertical-align: top;\n",
       "    }\n",
       "\n",
       "    .dataframe thead th {\n",
       "        text-align: right;\n",
       "    }\n",
       "</style>\n",
       "<table border=\"1\" class=\"dataframe\">\n",
       "  <thead>\n",
       "    <tr style=\"text-align: right;\">\n",
       "      <th></th>\n",
       "      <th>tconst</th>\n",
       "      <th>averageRating</th>\n",
       "      <th>numVotes</th>\n",
       "    </tr>\n",
       "  </thead>\n",
       "  <tbody>\n",
       "    <tr>\n",
       "      <th>0</th>\n",
       "      <td>tt0000001</td>\n",
       "      <td>5.7</td>\n",
       "      <td>2064</td>\n",
       "    </tr>\n",
       "    <tr>\n",
       "      <th>1</th>\n",
       "      <td>tt0000002</td>\n",
       "      <td>5.6</td>\n",
       "      <td>279</td>\n",
       "    </tr>\n",
       "    <tr>\n",
       "      <th>2</th>\n",
       "      <td>tt0000003</td>\n",
       "      <td>6.5</td>\n",
       "      <td>2038</td>\n",
       "    </tr>\n",
       "    <tr>\n",
       "      <th>3</th>\n",
       "      <td>tt0000004</td>\n",
       "      <td>5.4</td>\n",
       "      <td>180</td>\n",
       "    </tr>\n",
       "    <tr>\n",
       "      <th>4</th>\n",
       "      <td>tt0000005</td>\n",
       "      <td>6.2</td>\n",
       "      <td>2799</td>\n",
       "    </tr>\n",
       "  </tbody>\n",
       "</table>\n",
       "</div>"
      ],
      "text/plain": [
       "      tconst  averageRating  numVotes\n",
       "0  tt0000001            5.7      2064\n",
       "1  tt0000002            5.6       279\n",
       "2  tt0000003            6.5      2038\n",
       "3  tt0000004            5.4       180\n",
       "4  tt0000005            6.2      2799"
      ]
     },
     "execution_count": 5,
     "metadata": {},
     "output_type": "execute_result"
    }
   ],
   "source": [
    "ratings_df.head()"
   ]
  },
  {
   "cell_type": "code",
   "execution_count": 7,
   "id": "70ee44ba",
   "metadata": {},
   "outputs": [
    {
     "data": {
      "text/html": [
       "<div>\n",
       "<style scoped>\n",
       "    .dataframe tbody tr th:only-of-type {\n",
       "        vertical-align: middle;\n",
       "    }\n",
       "\n",
       "    .dataframe tbody tr th {\n",
       "        vertical-align: top;\n",
       "    }\n",
       "\n",
       "    .dataframe thead th {\n",
       "        text-align: right;\n",
       "    }\n",
       "</style>\n",
       "<table border=\"1\" class=\"dataframe\">\n",
       "  <thead>\n",
       "    <tr style=\"text-align: right;\">\n",
       "      <th></th>\n",
       "      <th>tconst</th>\n",
       "      <th>ordering</th>\n",
       "      <th>nconst</th>\n",
       "      <th>category</th>\n",
       "      <th>job</th>\n",
       "      <th>characters</th>\n",
       "    </tr>\n",
       "  </thead>\n",
       "  <tbody>\n",
       "    <tr>\n",
       "      <th>0</th>\n",
       "      <td>tt0000001</td>\n",
       "      <td>1</td>\n",
       "      <td>nm1588970</td>\n",
       "      <td>self</td>\n",
       "      <td>\\N</td>\n",
       "      <td>[\"Self\"]</td>\n",
       "    </tr>\n",
       "    <tr>\n",
       "      <th>1</th>\n",
       "      <td>tt0000001</td>\n",
       "      <td>2</td>\n",
       "      <td>nm0005690</td>\n",
       "      <td>director</td>\n",
       "      <td>\\N</td>\n",
       "      <td>\\N</td>\n",
       "    </tr>\n",
       "    <tr>\n",
       "      <th>2</th>\n",
       "      <td>tt0000001</td>\n",
       "      <td>3</td>\n",
       "      <td>nm0005690</td>\n",
       "      <td>producer</td>\n",
       "      <td>producer</td>\n",
       "      <td>\\N</td>\n",
       "    </tr>\n",
       "    <tr>\n",
       "      <th>3</th>\n",
       "      <td>tt0000001</td>\n",
       "      <td>4</td>\n",
       "      <td>nm0374658</td>\n",
       "      <td>cinematographer</td>\n",
       "      <td>director of photography</td>\n",
       "      <td>\\N</td>\n",
       "    </tr>\n",
       "    <tr>\n",
       "      <th>4</th>\n",
       "      <td>tt0000002</td>\n",
       "      <td>1</td>\n",
       "      <td>nm0721526</td>\n",
       "      <td>director</td>\n",
       "      <td>\\N</td>\n",
       "      <td>\\N</td>\n",
       "    </tr>\n",
       "  </tbody>\n",
       "</table>\n",
       "</div>"
      ],
      "text/plain": [
       "      tconst  ordering     nconst         category                      job  \\\n",
       "0  tt0000001         1  nm1588970             self                       \\N   \n",
       "1  tt0000001         2  nm0005690         director                       \\N   \n",
       "2  tt0000001         3  nm0005690         producer                 producer   \n",
       "3  tt0000001         4  nm0374658  cinematographer  director of photography   \n",
       "4  tt0000002         1  nm0721526         director                       \\N   \n",
       "\n",
       "  characters  \n",
       "0   [\"Self\"]  \n",
       "1         \\N  \n",
       "2         \\N  \n",
       "3         \\N  \n",
       "4         \\N  "
      ]
     },
     "execution_count": 7,
     "metadata": {},
     "output_type": "execute_result"
    }
   ],
   "source": [
    "principals_df.head()"
   ]
  },
  {
   "cell_type": "code",
   "execution_count": 8,
   "id": "60e944ff",
   "metadata": {},
   "outputs": [
    {
     "data": {
      "text/html": [
       "<div>\n",
       "<style scoped>\n",
       "    .dataframe tbody tr th:only-of-type {\n",
       "        vertical-align: middle;\n",
       "    }\n",
       "\n",
       "    .dataframe tbody tr th {\n",
       "        vertical-align: top;\n",
       "    }\n",
       "\n",
       "    .dataframe thead th {\n",
       "        text-align: right;\n",
       "    }\n",
       "</style>\n",
       "<table border=\"1\" class=\"dataframe\">\n",
       "  <thead>\n",
       "    <tr style=\"text-align: right;\">\n",
       "      <th></th>\n",
       "      <th>nconst</th>\n",
       "      <th>primaryName</th>\n",
       "      <th>birthYear</th>\n",
       "      <th>deathYear</th>\n",
       "      <th>primaryProfession</th>\n",
       "      <th>knownForTitles</th>\n",
       "    </tr>\n",
       "  </thead>\n",
       "  <tbody>\n",
       "    <tr>\n",
       "      <th>0</th>\n",
       "      <td>nm0000001</td>\n",
       "      <td>Fred Astaire</td>\n",
       "      <td>1899</td>\n",
       "      <td>1987</td>\n",
       "      <td>actor,miscellaneous,producer</td>\n",
       "      <td>tt0072308,tt0050419,tt0053137,tt0027125</td>\n",
       "    </tr>\n",
       "    <tr>\n",
       "      <th>1</th>\n",
       "      <td>nm0000002</td>\n",
       "      <td>Lauren Bacall</td>\n",
       "      <td>1924</td>\n",
       "      <td>2014</td>\n",
       "      <td>actress,soundtrack,archive_footage</td>\n",
       "      <td>tt0037382,tt0075213,tt0117057,tt0038355</td>\n",
       "    </tr>\n",
       "    <tr>\n",
       "      <th>2</th>\n",
       "      <td>nm0000003</td>\n",
       "      <td>Brigitte Bardot</td>\n",
       "      <td>1934</td>\n",
       "      <td>\\N</td>\n",
       "      <td>actress,music_department,producer</td>\n",
       "      <td>tt0057345,tt0049189,tt0056404,tt0054452</td>\n",
       "    </tr>\n",
       "    <tr>\n",
       "      <th>3</th>\n",
       "      <td>nm0000004</td>\n",
       "      <td>John Belushi</td>\n",
       "      <td>1949</td>\n",
       "      <td>1982</td>\n",
       "      <td>actor,writer,music_department</td>\n",
       "      <td>tt0072562,tt0077975,tt0080455,tt0078723</td>\n",
       "    </tr>\n",
       "    <tr>\n",
       "      <th>4</th>\n",
       "      <td>nm0000005</td>\n",
       "      <td>Ingmar Bergman</td>\n",
       "      <td>1918</td>\n",
       "      <td>2007</td>\n",
       "      <td>writer,director,actor</td>\n",
       "      <td>tt0050986,tt0083922,tt0050976,tt0069467</td>\n",
       "    </tr>\n",
       "  </tbody>\n",
       "</table>\n",
       "</div>"
      ],
      "text/plain": [
       "      nconst      primaryName birthYear deathYear  \\\n",
       "0  nm0000001     Fred Astaire      1899      1987   \n",
       "1  nm0000002    Lauren Bacall      1924      2014   \n",
       "2  nm0000003  Brigitte Bardot      1934        \\N   \n",
       "3  nm0000004     John Belushi      1949      1982   \n",
       "4  nm0000005   Ingmar Bergman      1918      2007   \n",
       "\n",
       "                    primaryProfession                           knownForTitles  \n",
       "0        actor,miscellaneous,producer  tt0072308,tt0050419,tt0053137,tt0027125  \n",
       "1  actress,soundtrack,archive_footage  tt0037382,tt0075213,tt0117057,tt0038355  \n",
       "2   actress,music_department,producer  tt0057345,tt0049189,tt0056404,tt0054452  \n",
       "3       actor,writer,music_department  tt0072562,tt0077975,tt0080455,tt0078723  \n",
       "4               writer,director,actor  tt0050986,tt0083922,tt0050976,tt0069467  "
      ]
     },
     "execution_count": 8,
     "metadata": {},
     "output_type": "execute_result"
    }
   ],
   "source": [
    "names_df.head()"
   ]
  },
  {
   "cell_type": "markdown",
   "id": "a99ec4f1-e0de-468c-bb6f-1974cf04c69d",
   "metadata": {},
   "source": [
    "The basics and ratings databases include a shared variable, so we can combine them"
   ]
  },
  {
   "cell_type": "code",
   "execution_count": 6,
   "id": "aebdfd22-36ad-4dc4-852b-be375576810a",
   "metadata": {},
   "outputs": [
    {
     "data": {
      "text/html": [
       "<div>\n",
       "<style scoped>\n",
       "    .dataframe tbody tr th:only-of-type {\n",
       "        vertical-align: middle;\n",
       "    }\n",
       "\n",
       "    .dataframe tbody tr th {\n",
       "        vertical-align: top;\n",
       "    }\n",
       "\n",
       "    .dataframe thead th {\n",
       "        text-align: right;\n",
       "    }\n",
       "</style>\n",
       "<table border=\"1\" class=\"dataframe\">\n",
       "  <thead>\n",
       "    <tr style=\"text-align: right;\">\n",
       "      <th></th>\n",
       "      <th>tconst</th>\n",
       "      <th>titleType</th>\n",
       "      <th>primaryTitle</th>\n",
       "      <th>originalTitle</th>\n",
       "      <th>isAdult</th>\n",
       "      <th>startYear</th>\n",
       "      <th>endYear</th>\n",
       "      <th>runtimeMinutes</th>\n",
       "      <th>genres</th>\n",
       "      <th>averageRating</th>\n",
       "      <th>numVotes</th>\n",
       "    </tr>\n",
       "  </thead>\n",
       "  <tbody>\n",
       "    <tr>\n",
       "      <th>0</th>\n",
       "      <td>tt0000001</td>\n",
       "      <td>short</td>\n",
       "      <td>Carmencita</td>\n",
       "      <td>Carmencita</td>\n",
       "      <td>0</td>\n",
       "      <td>1894</td>\n",
       "      <td>\\N</td>\n",
       "      <td>1</td>\n",
       "      <td>Documentary,Short</td>\n",
       "      <td>5.7</td>\n",
       "      <td>2064</td>\n",
       "    </tr>\n",
       "    <tr>\n",
       "      <th>1</th>\n",
       "      <td>tt0000002</td>\n",
       "      <td>short</td>\n",
       "      <td>Le clown et ses chiens</td>\n",
       "      <td>Le clown et ses chiens</td>\n",
       "      <td>0</td>\n",
       "      <td>1892</td>\n",
       "      <td>\\N</td>\n",
       "      <td>5</td>\n",
       "      <td>Animation,Short</td>\n",
       "      <td>5.6</td>\n",
       "      <td>279</td>\n",
       "    </tr>\n",
       "    <tr>\n",
       "      <th>2</th>\n",
       "      <td>tt0000003</td>\n",
       "      <td>short</td>\n",
       "      <td>Pauvre Pierrot</td>\n",
       "      <td>Pauvre Pierrot</td>\n",
       "      <td>0</td>\n",
       "      <td>1892</td>\n",
       "      <td>\\N</td>\n",
       "      <td>5</td>\n",
       "      <td>Action,Adventure,Animation</td>\n",
       "      <td>6.5</td>\n",
       "      <td>2038</td>\n",
       "    </tr>\n",
       "    <tr>\n",
       "      <th>3</th>\n",
       "      <td>tt0000004</td>\n",
       "      <td>short</td>\n",
       "      <td>Un bon bock</td>\n",
       "      <td>Un bon bock</td>\n",
       "      <td>0</td>\n",
       "      <td>1892</td>\n",
       "      <td>\\N</td>\n",
       "      <td>12</td>\n",
       "      <td>Animation,Short</td>\n",
       "      <td>5.4</td>\n",
       "      <td>180</td>\n",
       "    </tr>\n",
       "    <tr>\n",
       "      <th>4</th>\n",
       "      <td>tt0000005</td>\n",
       "      <td>short</td>\n",
       "      <td>Blacksmith Scene</td>\n",
       "      <td>Blacksmith Scene</td>\n",
       "      <td>0</td>\n",
       "      <td>1893</td>\n",
       "      <td>\\N</td>\n",
       "      <td>1</td>\n",
       "      <td>Comedy,Short</td>\n",
       "      <td>6.2</td>\n",
       "      <td>2799</td>\n",
       "    </tr>\n",
       "  </tbody>\n",
       "</table>\n",
       "</div>"
      ],
      "text/plain": [
       "      tconst titleType            primaryTitle           originalTitle  \\\n",
       "0  tt0000001     short              Carmencita              Carmencita   \n",
       "1  tt0000002     short  Le clown et ses chiens  Le clown et ses chiens   \n",
       "2  tt0000003     short          Pauvre Pierrot          Pauvre Pierrot   \n",
       "3  tt0000004     short             Un bon bock             Un bon bock   \n",
       "4  tt0000005     short        Blacksmith Scene        Blacksmith Scene   \n",
       "\n",
       "  isAdult startYear endYear runtimeMinutes                      genres  \\\n",
       "0       0      1894      \\N              1           Documentary,Short   \n",
       "1       0      1892      \\N              5             Animation,Short   \n",
       "2       0      1892      \\N              5  Action,Adventure,Animation   \n",
       "3       0      1892      \\N             12             Animation,Short   \n",
       "4       0      1893      \\N              1                Comedy,Short   \n",
       "\n",
       "   averageRating  numVotes  \n",
       "0            5.7      2064  \n",
       "1            5.6       279  \n",
       "2            6.5      2038  \n",
       "3            5.4       180  \n",
       "4            6.2      2799  "
      ]
     },
     "execution_count": 6,
     "metadata": {},
     "output_type": "execute_result"
    }
   ],
   "source": [
    "basics_ratings_df = basics_df.merge(ratings_df, how='inner', on='tconst')\n",
    "basics_ratings_df.head()"
   ]
  },
  {
   "cell_type": "markdown",
   "id": "edeeca72-abdc-4074-8913-8c50b1cbde09",
   "metadata": {},
   "source": [
    "### Data Cleaning <a class=\"anchor\" id=\"data-cleaning\"></a>\n",
    "Cleaning the data for easier analysis and looking for the story"
   ]
  },
  {
   "cell_type": "markdown",
   "id": "32ff2689-99d5-4bc0-8483-5119045cde82",
   "metadata": {},
   "source": [
    "First, our clients are only looking for data on movies, so we can remove all other rows."
   ]
  },
  {
   "cell_type": "code",
   "execution_count": 9,
   "id": "76ab70ed-f38b-4f0d-9940-044a0d5eec8d",
   "metadata": {},
   "outputs": [
    {
     "data": {
      "text/plain": [
       "array(['short', 'movie', 'tvShort', 'tvMovie', 'tvEpisode', 'tvSeries',\n",
       "       'tvMiniSeries', 'tvSpecial', 'video', 'videoGame'], dtype=object)"
      ]
     },
     "execution_count": 9,
     "metadata": {},
     "output_type": "execute_result"
    }
   ],
   "source": [
    "basics_ratings_df.titleType.unique()"
   ]
  },
  {
   "cell_type": "code",
   "execution_count": 10,
   "id": "ca66eb6b-d02b-48b5-bad8-cb2857951e8e",
   "metadata": {},
   "outputs": [],
   "source": [
    "movies_df = basics_ratings_df[basics_ratings_df.titleType == 'movie']"
   ]
  },
  {
   "cell_type": "markdown",
   "id": "6aa7d53e-0885-4a1f-b1c3-96cdeeaaa763",
   "metadata": {},
   "source": [
    "Then, we can determine variable types and correct as needed"
   ]
  },
  {
   "cell_type": "code",
   "execution_count": 11,
   "id": "3f5100bd-7a9e-46ed-8742-7d1484bb4905",
   "metadata": {},
   "outputs": [
    {
     "data": {
      "text/html": [
       "<div>\n",
       "<style scoped>\n",
       "    .dataframe tbody tr th:only-of-type {\n",
       "        vertical-align: middle;\n",
       "    }\n",
       "\n",
       "    .dataframe tbody tr th {\n",
       "        vertical-align: top;\n",
       "    }\n",
       "\n",
       "    .dataframe thead th {\n",
       "        text-align: right;\n",
       "    }\n",
       "</style>\n",
       "<table border=\"1\" class=\"dataframe\">\n",
       "  <thead>\n",
       "    <tr style=\"text-align: right;\">\n",
       "      <th></th>\n",
       "      <th>averageRating</th>\n",
       "      <th>numVotes</th>\n",
       "    </tr>\n",
       "  </thead>\n",
       "  <tbody>\n",
       "    <tr>\n",
       "      <th>count</th>\n",
       "      <td>314509.000000</td>\n",
       "      <td>3.145090e+05</td>\n",
       "    </tr>\n",
       "    <tr>\n",
       "      <th>mean</th>\n",
       "      <td>6.167837</td>\n",
       "      <td>3.621551e+03</td>\n",
       "    </tr>\n",
       "    <tr>\n",
       "      <th>std</th>\n",
       "      <td>1.360726</td>\n",
       "      <td>3.623180e+04</td>\n",
       "    </tr>\n",
       "    <tr>\n",
       "      <th>min</th>\n",
       "      <td>1.000000</td>\n",
       "      <td>5.000000e+00</td>\n",
       "    </tr>\n",
       "    <tr>\n",
       "      <th>25%</th>\n",
       "      <td>5.300000</td>\n",
       "      <td>1.900000e+01</td>\n",
       "    </tr>\n",
       "    <tr>\n",
       "      <th>50%</th>\n",
       "      <td>6.300000</td>\n",
       "      <td>6.100000e+01</td>\n",
       "    </tr>\n",
       "    <tr>\n",
       "      <th>75%</th>\n",
       "      <td>7.100000</td>\n",
       "      <td>3.130000e+02</td>\n",
       "    </tr>\n",
       "    <tr>\n",
       "      <th>max</th>\n",
       "      <td>10.000000</td>\n",
       "      <td>2.920364e+06</td>\n",
       "    </tr>\n",
       "  </tbody>\n",
       "</table>\n",
       "</div>"
      ],
      "text/plain": [
       "       averageRating      numVotes\n",
       "count  314509.000000  3.145090e+05\n",
       "mean        6.167837  3.621551e+03\n",
       "std         1.360726  3.623180e+04\n",
       "min         1.000000  5.000000e+00\n",
       "25%         5.300000  1.900000e+01\n",
       "50%         6.300000  6.100000e+01\n",
       "75%         7.100000  3.130000e+02\n",
       "max        10.000000  2.920364e+06"
      ]
     },
     "execution_count": 11,
     "metadata": {},
     "output_type": "execute_result"
    }
   ],
   "source": [
    "movies_df.describe()"
   ]
  },
  {
   "cell_type": "code",
   "execution_count": 12,
   "id": "76481354-2248-4fb3-897d-5836205a9e6f",
   "metadata": {},
   "outputs": [
    {
     "name": "stdout",
     "output_type": "stream",
     "text": [
      "<class 'pandas.core.frame.DataFrame'>\n",
      "Index: 314509 entries, 8 to 1463604\n",
      "Data columns (total 11 columns):\n",
      " #   Column          Non-Null Count   Dtype  \n",
      "---  ------          --------------   -----  \n",
      " 0   tconst          314509 non-null  object \n",
      " 1   titleType       314509 non-null  object \n",
      " 2   primaryTitle    314509 non-null  object \n",
      " 3   originalTitle   314509 non-null  object \n",
      " 4   isAdult         314509 non-null  object \n",
      " 5   startYear       314509 non-null  object \n",
      " 6   endYear         314509 non-null  object \n",
      " 7   runtimeMinutes  314509 non-null  object \n",
      " 8   genres          314509 non-null  object \n",
      " 9   averageRating   314509 non-null  float64\n",
      " 10  numVotes        314509 non-null  int64  \n",
      "dtypes: float64(1), int64(1), object(9)\n",
      "memory usage: 28.8+ MB\n"
     ]
    }
   ],
   "source": [
    "movies_df.info()"
   ]
  },
  {
   "cell_type": "code",
   "execution_count": 13,
   "id": "ea190d70-a760-4876-952d-4ecc6c4325ae",
   "metadata": {},
   "outputs": [],
   "source": [
    "def year_to_decade(x: str) -> str:\n",
    "    x = x[0:3] + '0'\n",
    "    return x"
   ]
  },
  {
   "cell_type": "code",
   "execution_count": 14,
   "id": "1b87818b-e933-479b-97fd-15b266317704",
   "metadata": {},
   "outputs": [],
   "source": [
    "def obj_to_int(x: str) -> int:\n",
    "    x = int(x)\n",
    "    return x"
   ]
  },
  {
   "cell_type": "code",
   "execution_count": 15,
   "id": "bef4c24c-3a24-4b26-9e69-4f91681c94c0",
   "metadata": {},
   "outputs": [],
   "source": [
    "def genre_list(x:str) -> list:\n",
    "    genre = x.split(',')\n",
    "    return genre"
   ]
  },
  {
   "cell_type": "code",
   "execution_count": 16,
   "id": "60fc03f3-0ea0-472f-b6fb-19dd89991d64",
   "metadata": {},
   "outputs": [],
   "source": [
    "movies_df = movies_df[~(movies_df.runtimeMinutes == '\\\\N')]\n",
    "movies_df = movies_df[~(movies_df.startYear  == '\\\\N')]\n",
    "movies_df = movies_df[~(movies_df.genres  == '\\\\N')]\n",
    "movies_df = movies_df[~(movies_df.averageRating  == '\\\\N')]\n",
    "movies_df = movies_df[~(movies_df.numVotes  == '\\\\N')]\n",
    "movies_df.runtimeMinutes = movies_df.runtimeMinutes.apply(obj_to_int)\n",
    "movies_df['startYearInt'] = movies_df.startYear.apply(obj_to_int)\n",
    "movies_df['decade'] = movies_df.startYear.apply(year_to_decade)"
   ]
  },
  {
   "cell_type": "code",
   "execution_count": 17,
   "id": "aee3f1b4-feed-4824-a5c9-216275c300ea",
   "metadata": {},
   "outputs": [
    {
     "data": {
      "text/plain": [
       "genres\n",
       "Action                    3114\n",
       "Action,Adult                 9\n",
       "Action,Adult,Adventure       3\n",
       "Action,Adult,Comedy          3\n",
       "Action,Adult,Crime          10\n",
       "                          ... \n",
       "Thriller,War,Western         1\n",
       "Thriller,Western            11\n",
       "War                        395\n",
       "War,Western                 10\n",
       "Western                   2397\n",
       "Length: 1272, dtype: int64"
      ]
     },
     "execution_count": 17,
     "metadata": {},
     "output_type": "execute_result"
    }
   ],
   "source": [
    "movies_df.groupby('genres').size()"
   ]
  },
  {
   "cell_type": "code",
   "execution_count": 18,
   "id": "ff541ab1-e711-4ad6-9f71-548d7513da00",
   "metadata": {},
   "outputs": [],
   "source": [
    "movies_df = movies_df[~(movies_df.runtimeMinutes > 300)]\n",
    "movies_df = movies_df[movies_df.numVotes > 99]"
   ]
  },
  {
   "cell_type": "code",
   "execution_count": 19,
   "id": "d3eaa5f7-0cc4-41e4-8c7e-afbd6151fa9e",
   "metadata": {},
   "outputs": [
    {
     "ename": "NameError",
     "evalue": "name 'genres_df' is not defined",
     "output_type": "error",
     "traceback": [
      "\u001b[0;31m---------------------------------------------------------------------------\u001b[0m",
      "\u001b[0;31mNameError\u001b[0m                                 Traceback (most recent call last)",
      "Cell \u001b[0;32mIn[19], line 1\u001b[0m\n\u001b[0;32m----> 1\u001b[0m genres_df\u001b[38;5;241m.\u001b[39mgenres \u001b[38;5;241m=\u001b[39m \u001b[43mgenres_df\u001b[49m\u001b[38;5;241m.\u001b[39mgenres\u001b[38;5;241m.\u001b[39mapply(genre_list)\n\u001b[1;32m      2\u001b[0m genres_df\n",
      "\u001b[0;31mNameError\u001b[0m: name 'genres_df' is not defined"
     ]
    }
   ],
   "source": [
    "genres_df.genres = genres_df.genres.apply(genre_list)\n",
    "genres_df"
   ]
  },
  {
   "cell_type": "code",
   "execution_count": 34,
   "id": "a39eec52-ea58-4472-8694-144bfcfc9002",
   "metadata": {},
   "outputs": [],
   "source": [
    "genres_df = genres_df.genres.apply(pd.Series) \\\n",
    "    .merge(genres_df, right_index = True, left_index = True) \\\n",
    "    .drop(['genres'], axis = 1) \\\n",
    "    .melt(id_vars = ['tconst'], value_name = 'genre') \\\n",
    "    .drop(\"variable\", axis = 1) \\\n",
    "    .dropna()"
   ]
  },
  {
   "cell_type": "code",
   "execution_count": 37,
   "id": "2812e99e-3abb-4a10-9e3f-d6f82487a4ef",
   "metadata": {},
   "outputs": [
    {
     "data": {
      "text/html": [
       "<div>\n",
       "<style scoped>\n",
       "    .dataframe tbody tr th:only-of-type {\n",
       "        vertical-align: middle;\n",
       "    }\n",
       "\n",
       "    .dataframe tbody tr th {\n",
       "        vertical-align: top;\n",
       "    }\n",
       "\n",
       "    .dataframe thead th {\n",
       "        text-align: right;\n",
       "    }\n",
       "</style>\n",
       "<table border=\"1\" class=\"dataframe\">\n",
       "  <thead>\n",
       "    <tr style=\"text-align: right;\">\n",
       "      <th></th>\n",
       "      <th>tconst</th>\n",
       "      <th>genre</th>\n",
       "    </tr>\n",
       "  </thead>\n",
       "  <tbody>\n",
       "    <tr>\n",
       "      <th>0</th>\n",
       "      <td>tt0000009</td>\n",
       "      <td>Romance</td>\n",
       "    </tr>\n",
       "    <tr>\n",
       "      <th>256295</th>\n",
       "      <td>tt0000147</td>\n",
       "      <td>Sport</td>\n",
       "    </tr>\n",
       "    <tr>\n",
       "      <th>128148</th>\n",
       "      <td>tt0000147</td>\n",
       "      <td>News</td>\n",
       "    </tr>\n",
       "    <tr>\n",
       "      <th>1</th>\n",
       "      <td>tt0000147</td>\n",
       "      <td>Documentary</td>\n",
       "    </tr>\n",
       "    <tr>\n",
       "      <th>128149</th>\n",
       "      <td>tt0000574</td>\n",
       "      <td>Adventure</td>\n",
       "    </tr>\n",
       "    <tr>\n",
       "      <th>...</th>\n",
       "      <td>...</td>\n",
       "      <td>...</td>\n",
       "    </tr>\n",
       "    <tr>\n",
       "      <th>128144</th>\n",
       "      <td>tt9916190</td>\n",
       "      <td>Action</td>\n",
       "    </tr>\n",
       "    <tr>\n",
       "      <th>384438</th>\n",
       "      <td>tt9916190</td>\n",
       "      <td>Thriller</td>\n",
       "    </tr>\n",
       "    <tr>\n",
       "      <th>128145</th>\n",
       "      <td>tt9916270</td>\n",
       "      <td>Thriller</td>\n",
       "    </tr>\n",
       "    <tr>\n",
       "      <th>128146</th>\n",
       "      <td>tt9916362</td>\n",
       "      <td>Drama</td>\n",
       "    </tr>\n",
       "    <tr>\n",
       "      <th>256293</th>\n",
       "      <td>tt9916362</td>\n",
       "      <td>History</td>\n",
       "    </tr>\n",
       "  </tbody>\n",
       "</table>\n",
       "<p>259394 rows × 2 columns</p>\n",
       "</div>"
      ],
      "text/plain": [
       "           tconst        genre\n",
       "0       tt0000009      Romance\n",
       "256295  tt0000147        Sport\n",
       "128148  tt0000147         News\n",
       "1       tt0000147  Documentary\n",
       "128149  tt0000574    Adventure\n",
       "...           ...          ...\n",
       "128144  tt9916190       Action\n",
       "384438  tt9916190     Thriller\n",
       "128145  tt9916270     Thriller\n",
       "128146  tt9916362        Drama\n",
       "256293  tt9916362      History\n",
       "\n",
       "[259394 rows x 2 columns]"
      ]
     },
     "execution_count": 37,
     "metadata": {},
     "output_type": "execute_result"
    }
   ],
   "source": [
    "genres_df.sort_values('tconst')"
   ]
  },
  {
   "cell_type": "code",
   "execution_count": 40,
   "id": "f2c43ca6-b194-4656-a12e-11de25b8f977",
   "metadata": {},
   "outputs": [
    {
     "data": {
      "text/html": [
       "<div>\n",
       "<style scoped>\n",
       "    .dataframe tbody tr th:only-of-type {\n",
       "        vertical-align: middle;\n",
       "    }\n",
       "\n",
       "    .dataframe tbody tr th {\n",
       "        vertical-align: top;\n",
       "    }\n",
       "\n",
       "    .dataframe thead th {\n",
       "        text-align: right;\n",
       "    }\n",
       "</style>\n",
       "<table border=\"1\" class=\"dataframe\">\n",
       "  <thead>\n",
       "    <tr style=\"text-align: right;\">\n",
       "      <th></th>\n",
       "      <th>tconst</th>\n",
       "    </tr>\n",
       "    <tr>\n",
       "      <th>genre</th>\n",
       "      <th></th>\n",
       "    </tr>\n",
       "  </thead>\n",
       "  <tbody>\n",
       "    <tr>\n",
       "      <th>Action</th>\n",
       "      <td>17393</td>\n",
       "    </tr>\n",
       "    <tr>\n",
       "      <th>Adult</th>\n",
       "      <td>815</td>\n",
       "    </tr>\n",
       "    <tr>\n",
       "      <th>Adventure</th>\n",
       "      <td>10204</td>\n",
       "    </tr>\n",
       "    <tr>\n",
       "      <th>Animation</th>\n",
       "      <td>3038</td>\n",
       "    </tr>\n",
       "    <tr>\n",
       "      <th>Biography</th>\n",
       "      <td>4805</td>\n",
       "    </tr>\n",
       "    <tr>\n",
       "      <th>Comedy</th>\n",
       "      <td>39544</td>\n",
       "    </tr>\n",
       "    <tr>\n",
       "      <th>Crime</th>\n",
       "      <td>15900</td>\n",
       "    </tr>\n",
       "    <tr>\n",
       "      <th>Documentary</th>\n",
       "      <td>11120</td>\n",
       "    </tr>\n",
       "    <tr>\n",
       "      <th>Drama</th>\n",
       "      <td>65964</td>\n",
       "    </tr>\n",
       "    <tr>\n",
       "      <th>Family</th>\n",
       "      <td>5745</td>\n",
       "    </tr>\n",
       "    <tr>\n",
       "      <th>Fantasy</th>\n",
       "      <td>5273</td>\n",
       "    </tr>\n",
       "    <tr>\n",
       "      <th>Film-Noir</th>\n",
       "      <td>818</td>\n",
       "    </tr>\n",
       "    <tr>\n",
       "      <th>Game-Show</th>\n",
       "      <td>1</td>\n",
       "    </tr>\n",
       "    <tr>\n",
       "      <th>History</th>\n",
       "      <td>4135</td>\n",
       "    </tr>\n",
       "    <tr>\n",
       "      <th>Horror</th>\n",
       "      <td>13823</td>\n",
       "    </tr>\n",
       "    <tr>\n",
       "      <th>Music</th>\n",
       "      <td>3442</td>\n",
       "    </tr>\n",
       "    <tr>\n",
       "      <th>Musical</th>\n",
       "      <td>2561</td>\n",
       "    </tr>\n",
       "    <tr>\n",
       "      <th>Mystery</th>\n",
       "      <td>7816</td>\n",
       "    </tr>\n",
       "    <tr>\n",
       "      <th>News</th>\n",
       "      <td>166</td>\n",
       "    </tr>\n",
       "    <tr>\n",
       "      <th>Reality-TV</th>\n",
       "      <td>16</td>\n",
       "    </tr>\n",
       "    <tr>\n",
       "      <th>Romance</th>\n",
       "      <td>18800</td>\n",
       "    </tr>\n",
       "    <tr>\n",
       "      <th>Sci-Fi</th>\n",
       "      <td>4625</td>\n",
       "    </tr>\n",
       "    <tr>\n",
       "      <th>Sport</th>\n",
       "      <td>2040</td>\n",
       "    </tr>\n",
       "    <tr>\n",
       "      <th>Talk-Show</th>\n",
       "      <td>4</td>\n",
       "    </tr>\n",
       "    <tr>\n",
       "      <th>Thriller</th>\n",
       "      <td>15767</td>\n",
       "    </tr>\n",
       "    <tr>\n",
       "      <th>War</th>\n",
       "      <td>3090</td>\n",
       "    </tr>\n",
       "    <tr>\n",
       "      <th>Western</th>\n",
       "      <td>2489</td>\n",
       "    </tr>\n",
       "  </tbody>\n",
       "</table>\n",
       "</div>"
      ],
      "text/plain": [
       "             tconst\n",
       "genre              \n",
       "Action        17393\n",
       "Adult           815\n",
       "Adventure     10204\n",
       "Animation      3038\n",
       "Biography      4805\n",
       "Comedy        39544\n",
       "Crime         15900\n",
       "Documentary   11120\n",
       "Drama         65964\n",
       "Family         5745\n",
       "Fantasy        5273\n",
       "Film-Noir       818\n",
       "Game-Show         1\n",
       "History        4135\n",
       "Horror        13823\n",
       "Music          3442\n",
       "Musical        2561\n",
       "Mystery        7816\n",
       "News            166\n",
       "Reality-TV       16\n",
       "Romance       18800\n",
       "Sci-Fi         4625\n",
       "Sport          2040\n",
       "Talk-Show         4\n",
       "Thriller      15767\n",
       "War            3090\n",
       "Western        2489"
      ]
     },
     "execution_count": 40,
     "metadata": {},
     "output_type": "execute_result"
    }
   ],
   "source": [
    "genres_df.groupby('genre').count()"
   ]
  },
  {
   "cell_type": "code",
   "execution_count": 43,
   "id": "0cefe2c4-bfdc-4bed-9f60-30d0dc95008a",
   "metadata": {},
   "outputs": [],
   "source": [
    "genres_df = genres_df[~(genres_df.genre.isin(['Talk-Show', 'Reality-TV', 'News', 'Music', 'History', 'Game-Show']))]"
   ]
  },
  {
   "cell_type": "code",
   "execution_count": 47,
   "id": "c8fa9d9c-07af-4792-be37-6a9c1f1caeb3",
   "metadata": {},
   "outputs": [],
   "source": [
    "movies_genres_df = genres_df.merge(movies_df, how='left', on='tconst')"
   ]
  },
  {
   "cell_type": "code",
   "execution_count": 48,
   "id": "1aa48999-8185-4270-8e5e-8e716171e30d",
   "metadata": {},
   "outputs": [
    {
     "data": {
      "text/html": [
       "<div>\n",
       "<style scoped>\n",
       "    .dataframe tbody tr th:only-of-type {\n",
       "        vertical-align: middle;\n",
       "    }\n",
       "\n",
       "    .dataframe tbody tr th {\n",
       "        vertical-align: top;\n",
       "    }\n",
       "\n",
       "    .dataframe thead th {\n",
       "        text-align: right;\n",
       "    }\n",
       "</style>\n",
       "<table border=\"1\" class=\"dataframe\">\n",
       "  <thead>\n",
       "    <tr style=\"text-align: right;\">\n",
       "      <th></th>\n",
       "      <th>tconst</th>\n",
       "      <th>genre</th>\n",
       "      <th>primaryTitle</th>\n",
       "      <th>startYear</th>\n",
       "      <th>runtimeMinutes</th>\n",
       "      <th>averageRating</th>\n",
       "      <th>numVotes</th>\n",
       "      <th>startYearInt</th>\n",
       "      <th>decade</th>\n",
       "    </tr>\n",
       "  </thead>\n",
       "  <tbody>\n",
       "    <tr>\n",
       "      <th>0</th>\n",
       "      <td>tt0000009</td>\n",
       "      <td>Romance</td>\n",
       "      <td>Miss Jerry</td>\n",
       "      <td>1894</td>\n",
       "      <td>45</td>\n",
       "      <td>5.4</td>\n",
       "      <td>212</td>\n",
       "      <td>1894</td>\n",
       "      <td>1890</td>\n",
       "    </tr>\n",
       "    <tr>\n",
       "      <th>1</th>\n",
       "      <td>tt0000147</td>\n",
       "      <td>Documentary</td>\n",
       "      <td>The Corbett-Fitzsimmons Fight</td>\n",
       "      <td>1897</td>\n",
       "      <td>100</td>\n",
       "      <td>5.2</td>\n",
       "      <td>520</td>\n",
       "      <td>1897</td>\n",
       "      <td>1890</td>\n",
       "    </tr>\n",
       "    <tr>\n",
       "      <th>2</th>\n",
       "      <td>tt0000574</td>\n",
       "      <td>Action</td>\n",
       "      <td>The Story of the Kelly Gang</td>\n",
       "      <td>1906</td>\n",
       "      <td>70</td>\n",
       "      <td>6.0</td>\n",
       "      <td>917</td>\n",
       "      <td>1906</td>\n",
       "      <td>1900</td>\n",
       "    </tr>\n",
       "    <tr>\n",
       "      <th>3</th>\n",
       "      <td>tt0001892</td>\n",
       "      <td>Drama</td>\n",
       "      <td>Den sorte drøm</td>\n",
       "      <td>1911</td>\n",
       "      <td>53</td>\n",
       "      <td>5.8</td>\n",
       "      <td>270</td>\n",
       "      <td>1911</td>\n",
       "      <td>1910</td>\n",
       "    </tr>\n",
       "    <tr>\n",
       "      <th>4</th>\n",
       "      <td>tt0001964</td>\n",
       "      <td>Drama</td>\n",
       "      <td>The Traitress</td>\n",
       "      <td>1911</td>\n",
       "      <td>48</td>\n",
       "      <td>6.0</td>\n",
       "      <td>102</td>\n",
       "      <td>1911</td>\n",
       "      <td>1910</td>\n",
       "    </tr>\n",
       "    <tr>\n",
       "      <th>...</th>\n",
       "      <td>...</td>\n",
       "      <td>...</td>\n",
       "      <td>...</td>\n",
       "      <td>...</td>\n",
       "      <td>...</td>\n",
       "      <td>...</td>\n",
       "      <td>...</td>\n",
       "      <td>...</td>\n",
       "      <td>...</td>\n",
       "    </tr>\n",
       "    <tr>\n",
       "      <th>251625</th>\n",
       "      <td>tt9900782</td>\n",
       "      <td>Drama</td>\n",
       "      <td>Kaithi</td>\n",
       "      <td>2019</td>\n",
       "      <td>145</td>\n",
       "      <td>8.4</td>\n",
       "      <td>43342</td>\n",
       "      <td>2019</td>\n",
       "      <td>2010</td>\n",
       "    </tr>\n",
       "    <tr>\n",
       "      <th>251626</th>\n",
       "      <td>tt9900940</td>\n",
       "      <td>Thriller</td>\n",
       "      <td>Scrapper</td>\n",
       "      <td>2021</td>\n",
       "      <td>87</td>\n",
       "      <td>4.4</td>\n",
       "      <td>1462</td>\n",
       "      <td>2021</td>\n",
       "      <td>2020</td>\n",
       "    </tr>\n",
       "    <tr>\n",
       "      <th>251627</th>\n",
       "      <td>tt9904802</td>\n",
       "      <td>War</td>\n",
       "      <td>Enemy Lines</td>\n",
       "      <td>2020</td>\n",
       "      <td>92</td>\n",
       "      <td>4.6</td>\n",
       "      <td>1962</td>\n",
       "      <td>2020</td>\n",
       "      <td>2020</td>\n",
       "    </tr>\n",
       "    <tr>\n",
       "      <th>251628</th>\n",
       "      <td>tt9907782</td>\n",
       "      <td>Mystery</td>\n",
       "      <td>The Cursed</td>\n",
       "      <td>2021</td>\n",
       "      <td>111</td>\n",
       "      <td>6.2</td>\n",
       "      <td>17743</td>\n",
       "      <td>2021</td>\n",
       "      <td>2020</td>\n",
       "    </tr>\n",
       "    <tr>\n",
       "      <th>251629</th>\n",
       "      <td>tt9916190</td>\n",
       "      <td>Thriller</td>\n",
       "      <td>Safeguard</td>\n",
       "      <td>2020</td>\n",
       "      <td>95</td>\n",
       "      <td>3.6</td>\n",
       "      <td>258</td>\n",
       "      <td>2020</td>\n",
       "      <td>2020</td>\n",
       "    </tr>\n",
       "  </tbody>\n",
       "</table>\n",
       "<p>251630 rows × 9 columns</p>\n",
       "</div>"
      ],
      "text/plain": [
       "           tconst        genre                   primaryTitle startYear  \\\n",
       "0       tt0000009      Romance                     Miss Jerry      1894   \n",
       "1       tt0000147  Documentary  The Corbett-Fitzsimmons Fight      1897   \n",
       "2       tt0000574       Action    The Story of the Kelly Gang      1906   \n",
       "3       tt0001892        Drama                 Den sorte drøm      1911   \n",
       "4       tt0001964        Drama                  The Traitress      1911   \n",
       "...           ...          ...                            ...       ...   \n",
       "251625  tt9900782        Drama                         Kaithi      2019   \n",
       "251626  tt9900940     Thriller                       Scrapper      2021   \n",
       "251627  tt9904802          War                    Enemy Lines      2020   \n",
       "251628  tt9907782      Mystery                     The Cursed      2021   \n",
       "251629  tt9916190     Thriller                      Safeguard      2020   \n",
       "\n",
       "        runtimeMinutes  averageRating  numVotes  startYearInt decade  \n",
       "0                   45            5.4       212          1894   1890  \n",
       "1                  100            5.2       520          1897   1890  \n",
       "2                   70            6.0       917          1906   1900  \n",
       "3                   53            5.8       270          1911   1910  \n",
       "4                   48            6.0       102          1911   1910  \n",
       "...                ...            ...       ...           ...    ...  \n",
       "251625             145            8.4     43342          2019   2010  \n",
       "251626              87            4.4      1462          2021   2020  \n",
       "251627              92            4.6      1962          2020   2020  \n",
       "251628             111            6.2     17743          2021   2020  \n",
       "251629              95            3.6       258          2020   2020  \n",
       "\n",
       "[251630 rows x 9 columns]"
      ]
     },
     "execution_count": 48,
     "metadata": {},
     "output_type": "execute_result"
    }
   ],
   "source": [
    "movies_genres_df"
   ]
  },
  {
   "cell_type": "code",
   "execution_count": 44,
   "id": "9376449b-e5eb-46a7-944a-9a187d0e09ee",
   "metadata": {
    "scrolled": true
   },
   "outputs": [],
   "source": [
    "movies_df = movies_df.drop(['endYear', 'originalTitle', 'genres', 'titleType', 'isAdult'], axis=1)"
   ]
  },
  {
   "cell_type": "code",
   "execution_count": 20,
   "id": "2f288b7f-3472-47d1-910b-d4e7e8c4a64d",
   "metadata": {},
   "outputs": [
    {
     "name": "stdout",
     "output_type": "stream",
     "text": [
      "<class 'pandas.core.frame.DataFrame'>\n",
      "Index: 128147 entries, 8 to 1463578\n",
      "Data columns (total 13 columns):\n",
      " #   Column          Non-Null Count   Dtype  \n",
      "---  ------          --------------   -----  \n",
      " 0   tconst          128147 non-null  object \n",
      " 1   titleType       128147 non-null  object \n",
      " 2   primaryTitle    128147 non-null  object \n",
      " 3   originalTitle   128147 non-null  object \n",
      " 4   isAdult         128147 non-null  object \n",
      " 5   startYear       128147 non-null  object \n",
      " 6   endYear         128147 non-null  object \n",
      " 7   runtimeMinutes  128147 non-null  int64  \n",
      " 8   genres          128147 non-null  object \n",
      " 9   averageRating   128147 non-null  float64\n",
      " 10  numVotes        128147 non-null  int64  \n",
      " 11  startYearInt    128147 non-null  int64  \n",
      " 12  decade          128147 non-null  object \n",
      "dtypes: float64(1), int64(3), object(9)\n",
      "memory usage: 13.7+ MB\n"
     ]
    }
   ],
   "source": [
    "movies_df.info()"
   ]
  },
  {
   "cell_type": "markdown",
   "id": "c6fc666a",
   "metadata": {},
   "source": [
    "The \"ordering\" and \"characters\" columns don't provide value so we drop them."
   ]
  },
  {
   "cell_type": "code",
   "execution_count": 21,
   "id": "86e4b75f",
   "metadata": {},
   "outputs": [],
   "source": [
    "principals_df = principals_df.drop(columns=(['ordering', 'characters']), axis=1)"
   ]
  },
  {
   "cell_type": "markdown",
   "id": "5dff9e62",
   "metadata": {},
   "source": [
    "Removing deceased actors or actresses as we can't make decisions based on people who can no longer make movies."
   ]
  },
  {
   "cell_type": "code",
   "execution_count": 22,
   "id": "49f7e5ae",
   "metadata": {},
   "outputs": [],
   "source": [
    "names_df = names_df[(names_df.deathYear == '\\\\N')]"
   ]
  },
  {
   "cell_type": "markdown",
   "id": "c8c66f30",
   "metadata": {},
   "source": [
    "Dropping the \"deathYear\" column because it no longer has any valid values."
   ]
  },
  {
   "cell_type": "code",
   "execution_count": 23,
   "id": "ab32a53c",
   "metadata": {},
   "outputs": [],
   "source": [
    "names_df = names_df.drop(columns=['deathYear'], axis=1)"
   ]
  },
  {
   "cell_type": "markdown",
   "id": "b5f5b985",
   "metadata": {},
   "source": [
    "Ensuring any null values are dropped so we are only working with known values."
   ]
  },
  {
   "cell_type": "code",
   "execution_count": 24,
   "id": "459d8bcc",
   "metadata": {},
   "outputs": [],
   "source": [
    "names_df = names_df.dropna(subset=['primaryName'])"
   ]
  },
  {
   "cell_type": "markdown",
   "id": "b8357100",
   "metadata": {},
   "source": [
    "Creates one column for a main profession to make data easier to analyze."
   ]
  },
  {
   "cell_type": "code",
   "execution_count": 25,
   "id": "63a1dfea",
   "metadata": {},
   "outputs": [],
   "source": [
    "def main_profession(professions):\n",
    "    professions_list = professions.split(sep=',')\n",
    "    return professions_list[0]\n",
    "\n",
    "names_df['mainProfession'] = names_df['primaryProfession'].apply(main_profession)"
   ]
  },
  {
   "cell_type": "markdown",
   "id": "ffeae36d",
   "metadata": {},
   "source": [
    "Determining which categories exist and which are important for analysis"
   ]
  },
  {
   "cell_type": "code",
   "execution_count": 26,
   "id": "5c139e50",
   "metadata": {},
   "outputs": [
    {
     "data": {
      "text/plain": [
       "array(['self', 'director', 'producer', 'cinematographer', 'composer',\n",
       "       'editor', 'actor', 'actress', 'writer', 'production_designer',\n",
       "       'archive_footage', 'casting_director', 'archive_sound'],\n",
       "      dtype=object)"
      ]
     },
     "execution_count": 26,
     "metadata": {},
     "output_type": "execute_result"
    }
   ],
   "source": [
    "principals_df['category'].unique()"
   ]
  },
  {
   "cell_type": "markdown",
   "id": "52947b40",
   "metadata": {},
   "source": [
    "Removing less important categories to focus on those with the most impact to help drive analysis and decision making."
   ]
  },
  {
   "cell_type": "code",
   "execution_count": 28,
   "id": "deaa9f01",
   "metadata": {},
   "outputs": [],
   "source": [
    "principals_simplified_df = principals_df[(principals_df['category'].isin(['director', 'actor', 'actress', 'writer']))]"
   ]
  },
  {
   "cell_type": "markdown",
   "id": "d8526fd1",
   "metadata": {},
   "source": [
    "Job category doesn't provide much value so that will be dropped as well"
   ]
  },
  {
   "cell_type": "code",
   "execution_count": 29,
   "id": "81f5350c",
   "metadata": {},
   "outputs": [],
   "source": [
    "principals_cleaned_df = principals_simplified_df.drop(columns=(['job']), axis=1)"
   ]
  }
 ],
 "metadata": {
  "kernelspec": {
   "display_name": "Python 3 (ipykernel)",
   "language": "python",
   "name": "python3"
  },
  "language_info": {
   "codemirror_mode": {
    "name": "ipython",
    "version": 3
   },
   "file_extension": ".py",
   "mimetype": "text/x-python",
   "name": "python",
   "nbconvert_exporter": "python",
   "pygments_lexer": "ipython3",
   "version": "3.12.0"
  }
 },
 "nbformat": 4,
 "nbformat_minor": 5
}
