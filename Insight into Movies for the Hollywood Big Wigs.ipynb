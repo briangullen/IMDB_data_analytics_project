{
 "cells": [
  {
   "cell_type": "markdown",
   "id": "5a3b5b5b-b884-442e-bdb6-647d519a469a",
   "metadata": {},
   "source": [
    "## Everything, Everywhere, All at Once:\n",
    "### A study in finding the hidden stories in chaotic datasets\n",
    "**Scenario:**<br><br>\n",
    "As data anlystis, we were tasked by some big movie executives to help them determine what kind of movie they should be working on next. Based on IMDb data we are looking to discover trends and relationships in the data that can help guide decisions on which project the movie studio should make next."
   ]
  },
  {
   "cell_type": "markdown",
   "id": "09f8c780-1995-491d-bc1f-8fc7a73c1773",
   "metadata": {},
   "source": [
    "### Questions for which we seek answers:\n",
    "1. How do movie genre trends change over time?<br>\n",
    "2. Do certain genres receive more votes or get better ratings?<br>\n",
    "3. How popular are movies broken down by vote count?<br>\n",
    "4. What principals (actors, actresses, directors, writers) are involved with the most popular and highest rated movies?<br>\n",
    "5. Do any correlations exist between movies aspects (e.g. Total Votes, Ratings, Runtime, etc.)"
   ]
  },
  {
   "cell_type": "markdown",
   "id": "c827b297",
   "metadata": {},
   "source": [
    "### Sections:\n",
    "* [Exploratory Data Analysis](#eda)\n",
    "* [Data Cleaning](#data-cleaning)\n",
    "* [Questions and Answers](#questions)"
   ]
  },
  {
   "cell_type": "markdown",
   "id": "1dd6aeea",
   "metadata": {},
   "source": [
    "#### Exploratory Data Analysis <a class=\"anchor\" id=\"eda\"></a>"
   ]
  },
  {
   "cell_type": "markdown",
   "id": "236b9881",
   "metadata": {},
   "source": [
    "First we need to import our libraries and dataframes we will be working with from IMDb."
   ]
  },
  {
   "cell_type": "code",
   "execution_count": 1,
   "id": "c78fefef-a343-4f6c-b0a6-9899926589fb",
   "metadata": {},
   "outputs": [],
   "source": [
    "import pandas as pd\n",
    "import seaborn as sns"
   ]
  },
  {
   "cell_type": "code",
   "execution_count": 2,
   "id": "a6d86c1a-c012-4f91-ae30-ae0b3047949b",
   "metadata": {},
   "outputs": [],
   "source": [
    "import warnings\n",
    "warnings.filterwarnings('ignore')"
   ]
  },
  {
   "cell_type": "code",
   "execution_count": 44,
   "id": "20c71940-e81c-448a-b73a-323ddc96aad8",
   "metadata": {},
   "outputs": [],
   "source": [
    "basics_df = pd.read_csv('Data/title.basics.tsv', sep='\\t')\n",
    "ratings_df = pd.read_csv('Data/title.ratings.tsv', sep='\\t')"
   ]
  },
  {
   "cell_type": "code",
   "execution_count": 4,
   "id": "820ad9ba",
   "metadata": {},
   "outputs": [],
   "source": [
    "names_df = pd.read_csv('Data/name.basics.tsv', sep='\\t')\n",
    "principals_df = pd.read_csv('Data/title.principals.tsv', sep='\\t')"
   ]
  },
  {
   "cell_type": "markdown",
   "id": "dd05f42e",
   "metadata": {},
   "source": [
    "We begin by looking at each data set to determine the datatypes and information available."
   ]
  },
  {
   "cell_type": "code",
   "execution_count": 5,
   "id": "852d77e0-1d86-45f7-9ce5-a687d5653446",
   "metadata": {},
   "outputs": [
    {
     "data": {
      "text/html": [
       "<div>\n",
       "<style scoped>\n",
       "    .dataframe tbody tr th:only-of-type {\n",
       "        vertical-align: middle;\n",
       "    }\n",
       "\n",
       "    .dataframe tbody tr th {\n",
       "        vertical-align: top;\n",
       "    }\n",
       "\n",
       "    .dataframe thead th {\n",
       "        text-align: right;\n",
       "    }\n",
       "</style>\n",
       "<table border=\"1\" class=\"dataframe\">\n",
       "  <thead>\n",
       "    <tr style=\"text-align: right;\">\n",
       "      <th></th>\n",
       "      <th>tconst</th>\n",
       "      <th>averageRating</th>\n",
       "      <th>numVotes</th>\n",
       "    </tr>\n",
       "  </thead>\n",
       "  <tbody>\n",
       "    <tr>\n",
       "      <th>0</th>\n",
       "      <td>tt0000001</td>\n",
       "      <td>5.7</td>\n",
       "      <td>2064</td>\n",
       "    </tr>\n",
       "    <tr>\n",
       "      <th>1</th>\n",
       "      <td>tt0000002</td>\n",
       "      <td>5.6</td>\n",
       "      <td>279</td>\n",
       "    </tr>\n",
       "    <tr>\n",
       "      <th>2</th>\n",
       "      <td>tt0000003</td>\n",
       "      <td>6.5</td>\n",
       "      <td>2038</td>\n",
       "    </tr>\n",
       "    <tr>\n",
       "      <th>3</th>\n",
       "      <td>tt0000004</td>\n",
       "      <td>5.4</td>\n",
       "      <td>180</td>\n",
       "    </tr>\n",
       "    <tr>\n",
       "      <th>4</th>\n",
       "      <td>tt0000005</td>\n",
       "      <td>6.2</td>\n",
       "      <td>2799</td>\n",
       "    </tr>\n",
       "  </tbody>\n",
       "</table>\n",
       "</div>"
      ],
      "text/plain": [
       "      tconst  averageRating  numVotes\n",
       "0  tt0000001            5.7      2064\n",
       "1  tt0000002            5.6       279\n",
       "2  tt0000003            6.5      2038\n",
       "3  tt0000004            5.4       180\n",
       "4  tt0000005            6.2      2799"
      ]
     },
     "execution_count": 5,
     "metadata": {},
     "output_type": "execute_result"
    }
   ],
   "source": [
    "ratings_df.head()"
   ]
  },
  {
   "cell_type": "code",
   "execution_count": 6,
   "id": "70ee44ba",
   "metadata": {},
   "outputs": [
    {
     "data": {
      "text/html": [
       "<div>\n",
       "<style scoped>\n",
       "    .dataframe tbody tr th:only-of-type {\n",
       "        vertical-align: middle;\n",
       "    }\n",
       "\n",
       "    .dataframe tbody tr th {\n",
       "        vertical-align: top;\n",
       "    }\n",
       "\n",
       "    .dataframe thead th {\n",
       "        text-align: right;\n",
       "    }\n",
       "</style>\n",
       "<table border=\"1\" class=\"dataframe\">\n",
       "  <thead>\n",
       "    <tr style=\"text-align: right;\">\n",
       "      <th></th>\n",
       "      <th>tconst</th>\n",
       "      <th>ordering</th>\n",
       "      <th>nconst</th>\n",
       "      <th>category</th>\n",
       "      <th>job</th>\n",
       "      <th>characters</th>\n",
       "    </tr>\n",
       "  </thead>\n",
       "  <tbody>\n",
       "    <tr>\n",
       "      <th>0</th>\n",
       "      <td>tt0000001</td>\n",
       "      <td>1</td>\n",
       "      <td>nm1588970</td>\n",
       "      <td>self</td>\n",
       "      <td>\\N</td>\n",
       "      <td>[\"Self\"]</td>\n",
       "    </tr>\n",
       "    <tr>\n",
       "      <th>1</th>\n",
       "      <td>tt0000001</td>\n",
       "      <td>2</td>\n",
       "      <td>nm0005690</td>\n",
       "      <td>director</td>\n",
       "      <td>\\N</td>\n",
       "      <td>\\N</td>\n",
       "    </tr>\n",
       "    <tr>\n",
       "      <th>2</th>\n",
       "      <td>tt0000001</td>\n",
       "      <td>3</td>\n",
       "      <td>nm0005690</td>\n",
       "      <td>producer</td>\n",
       "      <td>producer</td>\n",
       "      <td>\\N</td>\n",
       "    </tr>\n",
       "    <tr>\n",
       "      <th>3</th>\n",
       "      <td>tt0000001</td>\n",
       "      <td>4</td>\n",
       "      <td>nm0374658</td>\n",
       "      <td>cinematographer</td>\n",
       "      <td>director of photography</td>\n",
       "      <td>\\N</td>\n",
       "    </tr>\n",
       "    <tr>\n",
       "      <th>4</th>\n",
       "      <td>tt0000002</td>\n",
       "      <td>1</td>\n",
       "      <td>nm0721526</td>\n",
       "      <td>director</td>\n",
       "      <td>\\N</td>\n",
       "      <td>\\N</td>\n",
       "    </tr>\n",
       "  </tbody>\n",
       "</table>\n",
       "</div>"
      ],
      "text/plain": [
       "      tconst  ordering     nconst         category                      job  \\\n",
       "0  tt0000001         1  nm1588970             self                       \\N   \n",
       "1  tt0000001         2  nm0005690         director                       \\N   \n",
       "2  tt0000001         3  nm0005690         producer                 producer   \n",
       "3  tt0000001         4  nm0374658  cinematographer  director of photography   \n",
       "4  tt0000002         1  nm0721526         director                       \\N   \n",
       "\n",
       "  characters  \n",
       "0   [\"Self\"]  \n",
       "1         \\N  \n",
       "2         \\N  \n",
       "3         \\N  \n",
       "4         \\N  "
      ]
     },
     "execution_count": 6,
     "metadata": {},
     "output_type": "execute_result"
    }
   ],
   "source": [
    "principals_df.head()"
   ]
  },
  {
   "cell_type": "code",
   "execution_count": 7,
   "id": "60e944ff",
   "metadata": {},
   "outputs": [
    {
     "data": {
      "text/html": [
       "<div>\n",
       "<style scoped>\n",
       "    .dataframe tbody tr th:only-of-type {\n",
       "        vertical-align: middle;\n",
       "    }\n",
       "\n",
       "    .dataframe tbody tr th {\n",
       "        vertical-align: top;\n",
       "    }\n",
       "\n",
       "    .dataframe thead th {\n",
       "        text-align: right;\n",
       "    }\n",
       "</style>\n",
       "<table border=\"1\" class=\"dataframe\">\n",
       "  <thead>\n",
       "    <tr style=\"text-align: right;\">\n",
       "      <th></th>\n",
       "      <th>nconst</th>\n",
       "      <th>primaryName</th>\n",
       "      <th>birthYear</th>\n",
       "      <th>deathYear</th>\n",
       "      <th>primaryProfession</th>\n",
       "      <th>knownForTitles</th>\n",
       "    </tr>\n",
       "  </thead>\n",
       "  <tbody>\n",
       "    <tr>\n",
       "      <th>0</th>\n",
       "      <td>nm0000001</td>\n",
       "      <td>Fred Astaire</td>\n",
       "      <td>1899</td>\n",
       "      <td>1987</td>\n",
       "      <td>actor,miscellaneous,producer</td>\n",
       "      <td>tt0072308,tt0050419,tt0053137,tt0027125</td>\n",
       "    </tr>\n",
       "    <tr>\n",
       "      <th>1</th>\n",
       "      <td>nm0000002</td>\n",
       "      <td>Lauren Bacall</td>\n",
       "      <td>1924</td>\n",
       "      <td>2014</td>\n",
       "      <td>actress,soundtrack,archive_footage</td>\n",
       "      <td>tt0037382,tt0075213,tt0117057,tt0038355</td>\n",
       "    </tr>\n",
       "    <tr>\n",
       "      <th>2</th>\n",
       "      <td>nm0000003</td>\n",
       "      <td>Brigitte Bardot</td>\n",
       "      <td>1934</td>\n",
       "      <td>\\N</td>\n",
       "      <td>actress,music_department,producer</td>\n",
       "      <td>tt0057345,tt0049189,tt0056404,tt0054452</td>\n",
       "    </tr>\n",
       "    <tr>\n",
       "      <th>3</th>\n",
       "      <td>nm0000004</td>\n",
       "      <td>John Belushi</td>\n",
       "      <td>1949</td>\n",
       "      <td>1982</td>\n",
       "      <td>actor,writer,music_department</td>\n",
       "      <td>tt0072562,tt0077975,tt0080455,tt0078723</td>\n",
       "    </tr>\n",
       "    <tr>\n",
       "      <th>4</th>\n",
       "      <td>nm0000005</td>\n",
       "      <td>Ingmar Bergman</td>\n",
       "      <td>1918</td>\n",
       "      <td>2007</td>\n",
       "      <td>writer,director,actor</td>\n",
       "      <td>tt0050986,tt0083922,tt0050976,tt0069467</td>\n",
       "    </tr>\n",
       "  </tbody>\n",
       "</table>\n",
       "</div>"
      ],
      "text/plain": [
       "      nconst      primaryName birthYear deathYear  \\\n",
       "0  nm0000001     Fred Astaire      1899      1987   \n",
       "1  nm0000002    Lauren Bacall      1924      2014   \n",
       "2  nm0000003  Brigitte Bardot      1934        \\N   \n",
       "3  nm0000004     John Belushi      1949      1982   \n",
       "4  nm0000005   Ingmar Bergman      1918      2007   \n",
       "\n",
       "                    primaryProfession                           knownForTitles  \n",
       "0        actor,miscellaneous,producer  tt0072308,tt0050419,tt0053137,tt0027125  \n",
       "1  actress,soundtrack,archive_footage  tt0037382,tt0075213,tt0117057,tt0038355  \n",
       "2   actress,music_department,producer  tt0057345,tt0049189,tt0056404,tt0054452  \n",
       "3       actor,writer,music_department  tt0072562,tt0077975,tt0080455,tt0078723  \n",
       "4               writer,director,actor  tt0050986,tt0083922,tt0050976,tt0069467  "
      ]
     },
     "execution_count": 7,
     "metadata": {},
     "output_type": "execute_result"
    }
   ],
   "source": [
    "names_df.head()"
   ]
  },
  {
   "cell_type": "markdown",
   "id": "a99ec4f1-e0de-468c-bb6f-1974cf04c69d",
   "metadata": {},
   "source": [
    "The basics and ratings databases include a shared variable, so we can combine them"
   ]
  },
  {
   "cell_type": "code",
   "execution_count": 8,
   "id": "aebdfd22-36ad-4dc4-852b-be375576810a",
   "metadata": {},
   "outputs": [],
   "source": [
    "basics_ratings_df = basics_df.merge(ratings_df, how='inner', on='tconst')"
   ]
  },
  {
   "cell_type": "markdown",
   "id": "edeeca72-abdc-4074-8913-8c50b1cbde09",
   "metadata": {},
   "source": [
    "### Data Cleaning <a class=\"anchor\" id=\"data-cleaning\"></a>\n",
    "Cleaning the data for easier analysis and looking for the story"
   ]
  },
  {
   "cell_type": "markdown",
   "id": "32ff2689-99d5-4bc0-8483-5119045cde82",
   "metadata": {},
   "source": [
    "First, our clients are only looking for data on movies, so we can remove all other rows."
   ]
  },
  {
   "cell_type": "code",
   "execution_count": 9,
   "id": "76ab70ed-f38b-4f0d-9940-044a0d5eec8d",
   "metadata": {},
   "outputs": [
    {
     "data": {
      "text/plain": [
       "array(['short', 'movie', 'tvShort', 'tvMovie', 'tvEpisode', 'tvSeries',\n",
       "       'tvMiniSeries', 'tvSpecial', 'video', 'videoGame'], dtype=object)"
      ]
     },
     "execution_count": 9,
     "metadata": {},
     "output_type": "execute_result"
    }
   ],
   "source": [
    "basics_ratings_df.titleType.unique()"
   ]
  },
  {
   "cell_type": "code",
   "execution_count": 10,
   "id": "ca66eb6b-d02b-48b5-bad8-cb2857951e8e",
   "metadata": {},
   "outputs": [],
   "source": [
    "movies_df = basics_ratings_df[basics_ratings_df.titleType == 'movie']"
   ]
  },
  {
   "cell_type": "markdown",
   "id": "6aa7d53e-0885-4a1f-b1c3-96cdeeaaa763",
   "metadata": {},
   "source": [
    "Then, we can determine variable types and correct as needed"
   ]
  },
  {
   "cell_type": "code",
   "execution_count": 11,
   "id": "3f5100bd-7a9e-46ed-8742-7d1484bb4905",
   "metadata": {},
   "outputs": [
    {
     "data": {
      "text/html": [
       "<div>\n",
       "<style scoped>\n",
       "    .dataframe tbody tr th:only-of-type {\n",
       "        vertical-align: middle;\n",
       "    }\n",
       "\n",
       "    .dataframe tbody tr th {\n",
       "        vertical-align: top;\n",
       "    }\n",
       "\n",
       "    .dataframe thead th {\n",
       "        text-align: right;\n",
       "    }\n",
       "</style>\n",
       "<table border=\"1\" class=\"dataframe\">\n",
       "  <thead>\n",
       "    <tr style=\"text-align: right;\">\n",
       "      <th></th>\n",
       "      <th>averageRating</th>\n",
       "      <th>numVotes</th>\n",
       "    </tr>\n",
       "  </thead>\n",
       "  <tbody>\n",
       "    <tr>\n",
       "      <th>count</th>\n",
       "      <td>314509.000000</td>\n",
       "      <td>3.145090e+05</td>\n",
       "    </tr>\n",
       "    <tr>\n",
       "      <th>mean</th>\n",
       "      <td>6.167837</td>\n",
       "      <td>3.621551e+03</td>\n",
       "    </tr>\n",
       "    <tr>\n",
       "      <th>std</th>\n",
       "      <td>1.360726</td>\n",
       "      <td>3.623180e+04</td>\n",
       "    </tr>\n",
       "    <tr>\n",
       "      <th>min</th>\n",
       "      <td>1.000000</td>\n",
       "      <td>5.000000e+00</td>\n",
       "    </tr>\n",
       "    <tr>\n",
       "      <th>25%</th>\n",
       "      <td>5.300000</td>\n",
       "      <td>1.900000e+01</td>\n",
       "    </tr>\n",
       "    <tr>\n",
       "      <th>50%</th>\n",
       "      <td>6.300000</td>\n",
       "      <td>6.100000e+01</td>\n",
       "    </tr>\n",
       "    <tr>\n",
       "      <th>75%</th>\n",
       "      <td>7.100000</td>\n",
       "      <td>3.130000e+02</td>\n",
       "    </tr>\n",
       "    <tr>\n",
       "      <th>max</th>\n",
       "      <td>10.000000</td>\n",
       "      <td>2.920364e+06</td>\n",
       "    </tr>\n",
       "  </tbody>\n",
       "</table>\n",
       "</div>"
      ],
      "text/plain": [
       "       averageRating      numVotes\n",
       "count  314509.000000  3.145090e+05\n",
       "mean        6.167837  3.621551e+03\n",
       "std         1.360726  3.623180e+04\n",
       "min         1.000000  5.000000e+00\n",
       "25%         5.300000  1.900000e+01\n",
       "50%         6.300000  6.100000e+01\n",
       "75%         7.100000  3.130000e+02\n",
       "max        10.000000  2.920364e+06"
      ]
     },
     "execution_count": 11,
     "metadata": {},
     "output_type": "execute_result"
    }
   ],
   "source": [
    "movies_df.describe()"
   ]
  },
  {
   "cell_type": "code",
   "execution_count": 12,
   "id": "76481354-2248-4fb3-897d-5836205a9e6f",
   "metadata": {},
   "outputs": [
    {
     "name": "stdout",
     "output_type": "stream",
     "text": [
      "<class 'pandas.core.frame.DataFrame'>\n",
      "Index: 314509 entries, 8 to 1463604\n",
      "Data columns (total 11 columns):\n",
      " #   Column          Non-Null Count   Dtype  \n",
      "---  ------          --------------   -----  \n",
      " 0   tconst          314509 non-null  object \n",
      " 1   titleType       314509 non-null  object \n",
      " 2   primaryTitle    314509 non-null  object \n",
      " 3   originalTitle   314509 non-null  object \n",
      " 4   isAdult         314509 non-null  object \n",
      " 5   startYear       314509 non-null  object \n",
      " 6   endYear         314509 non-null  object \n",
      " 7   runtimeMinutes  314509 non-null  object \n",
      " 8   genres          314509 non-null  object \n",
      " 9   averageRating   314509 non-null  float64\n",
      " 10  numVotes        314509 non-null  int64  \n",
      "dtypes: float64(1), int64(1), object(9)\n",
      "memory usage: 28.8+ MB\n"
     ]
    }
   ],
   "source": [
    "movies_df.info()"
   ]
  },
  {
   "cell_type": "markdown",
   "id": "76143d28-5e9e-4964-8a31-f332f10a4f8f",
   "metadata": {},
   "source": [
    "Creating a new column based off of decade to easily group data"
   ]
  },
  {
   "cell_type": "code",
   "execution_count": 13,
   "id": "ea190d70-a760-4876-952d-4ecc6c4325ae",
   "metadata": {},
   "outputs": [],
   "source": [
    "def year_to_decade(x: str) -> str:\n",
    "    x = x[0:3] + '0'\n",
    "    return x"
   ]
  },
  {
   "cell_type": "markdown",
   "id": "7184fec3-8324-4fa0-8f2f-c1ee4cd912db",
   "metadata": {},
   "source": [
    "Converting strings to integers"
   ]
  },
  {
   "cell_type": "code",
   "execution_count": 14,
   "id": "1b87818b-e933-479b-97fd-15b266317704",
   "metadata": {},
   "outputs": [],
   "source": [
    "def obj_to_int(x: str) -> int:\n",
    "    x = int(x)\n",
    "    return x"
   ]
  },
  {
   "cell_type": "markdown",
   "id": "b50fba34-ff72-4c2d-ac26-3d43dc0644c6",
   "metadata": {},
   "source": [
    "Removing null values and running the above functions"
   ]
  },
  {
   "cell_type": "code",
   "execution_count": 15,
   "id": "60fc03f3-0ea0-472f-b6fb-19dd89991d64",
   "metadata": {},
   "outputs": [],
   "source": [
    "movies_df = movies_df[~(movies_df.runtimeMinutes == '\\\\N')]\n",
    "movies_df = movies_df[~(movies_df.startYear  == '\\\\N')]\n",
    "movies_df = movies_df[~(movies_df.genres  == '\\\\N')]\n",
    "movies_df = movies_df[~(movies_df.averageRating  == '\\\\N')]\n",
    "movies_df = movies_df[~(movies_df.numVotes  == '\\\\N')]\n",
    "movies_df.runtimeMinutes = movies_df.runtimeMinutes.apply(obj_to_int)\n",
    "movies_df['startYearInt'] = movies_df.startYear.apply(obj_to_int)\n",
    "movies_df['decade'] = movies_df.startYear.apply(year_to_decade)"
   ]
  },
  {
   "cell_type": "markdown",
   "id": "c10e404d-77d2-4dec-9c55-9d93b41617dd",
   "metadata": {},
   "source": [
    "Removing outliers, any movies over 5 hours, and any movies with less than 100 rating votes"
   ]
  },
  {
   "cell_type": "code",
   "execution_count": 16,
   "id": "ff541ab1-e711-4ad6-9f71-548d7513da00",
   "metadata": {},
   "outputs": [],
   "source": [
    "movies_df = movies_df[~(movies_df.runtimeMinutes > 300)]\n",
    "movies_df = movies_df[movies_df.numVotes > 99]"
   ]
  },
  {
   "cell_type": "markdown",
   "id": "862cd0ae-778b-4fe8-9749-8cafe9969383",
   "metadata": {},
   "source": [
    "Splitting the string of genres into a proper list"
   ]
  },
  {
   "cell_type": "code",
   "execution_count": 17,
   "id": "bef4c24c-3a24-4b26-9e69-4f91681c94c0",
   "metadata": {},
   "outputs": [],
   "source": [
    "def genre_list(x:str) -> list:\n",
    "    genre = x.split(',')\n",
    "    return genre"
   ]
  },
  {
   "cell_type": "markdown",
   "id": "e13e9bb1-90f5-4f1e-844c-f29d8b4e79a0",
   "metadata": {},
   "source": [
    "Creating a new dataframe with just tconst and genres, to unwind and merge back into movies"
   ]
  },
  {
   "cell_type": "code",
   "execution_count": 18,
   "id": "d3eaa5f7-0cc4-41e4-8c7e-afbd6151fa9e",
   "metadata": {},
   "outputs": [],
   "source": [
    "genres_df = movies_df[['genres', 'tconst']]\n",
    "genres_df.genres = genres_df.genres.apply(genre_list)"
   ]
  },
  {
   "cell_type": "code",
   "execution_count": 19,
   "id": "a39eec52-ea58-4472-8694-144bfcfc9002",
   "metadata": {},
   "outputs": [],
   "source": [
    "genres_df = genres_df.genres.apply(pd.Series) \\\n",
    "    .merge(genres_df, right_index = True, left_index = True) \\\n",
    "    .drop(['genres'], axis = 1) \\\n",
    "    .melt(id_vars = ['tconst'], value_name = 'genre') \\\n",
    "    .drop(\"variable\", axis = 1) \\\n",
    "    .dropna()"
   ]
  },
  {
   "cell_type": "markdown",
   "id": "d6fe278f-78ef-4dae-b690-6d22c36f2c0b",
   "metadata": {},
   "source": [
    "Cleaning the genres, removing any that don't make sense for movies, that have too few entries, and combining related for easier to understand visualizations"
   ]
  },
  {
   "cell_type": "code",
   "execution_count": 20,
   "id": "0cefe2c4-bfdc-4bed-9f60-30d0dc95008a",
   "metadata": {},
   "outputs": [],
   "source": [
    "genres_df = genres_df[~(genres_df.genre.isin(['Talk-Show', 'Reality-TV', 'News', 'Game-Show', 'Adult']))]"
   ]
  },
  {
   "cell_type": "code",
   "execution_count": 21,
   "id": "8971bb2b-4310-4a24-b878-22c2e7a23571",
   "metadata": {},
   "outputs": [],
   "source": [
    "genres_df.genre = genres_df.genre.replace(['Thriller', 'Adventure'], 'Action')\n",
    "genres_df.genre = genres_df.genre.replace(['History', 'Biography'], 'Documentary')\n",
    "genres_df.genre = genres_df.genre.replace(['Sci-Fi', 'Fantasy'], 'Sci-Fi Fantasy')\n",
    "genres_df.genre = genres_df.genre.replace(['Music'], 'Musical')\n",
    "genres_df.genre = genres_df.genre.replace(['Film-Noir'], 'Mystery')\n",
    "genres_df = genres_df.drop_duplicates()"
   ]
  },
  {
   "cell_type": "markdown",
   "id": "d80f5be7-72c3-464c-8ae1-55ccb26ebe01",
   "metadata": {},
   "source": [
    "Merging unwound genres back into movies"
   ]
  },
  {
   "cell_type": "code",
   "execution_count": 22,
   "id": "c8fa9d9c-07af-4792-be37-6a9c1f1caeb3",
   "metadata": {},
   "outputs": [],
   "source": [
    "movies_genres_df = genres_df.merge(movies_df, how='left', on='tconst')"
   ]
  },
  {
   "cell_type": "markdown",
   "id": "124a1127-fcd0-4fcf-a24e-0717ba52f874",
   "metadata": {},
   "source": [
    "Removing columns that we don't need"
   ]
  },
  {
   "cell_type": "code",
   "execution_count": 23,
   "id": "9376449b-e5eb-46a7-944a-9a187d0e09ee",
   "metadata": {
    "scrolled": true
   },
   "outputs": [],
   "source": [
    "movies_genres_df = movies_genres_df.drop(['endYear', 'originalTitle', 'genres', 'titleType', 'isAdult', 'genres', 'startYear'], axis=1)"
   ]
  },
  {
   "cell_type": "markdown",
   "id": "c6fc666a",
   "metadata": {},
   "source": [
    "The \"ordering\" and \"characters\" columns don't provide value so we drop them."
   ]
  },
  {
   "cell_type": "code",
   "execution_count": 24,
   "id": "86e4b75f",
   "metadata": {},
   "outputs": [],
   "source": [
    "principals_df = principals_df.drop(columns=(['ordering', 'characters']), axis=1)"
   ]
  },
  {
   "cell_type": "markdown",
   "id": "5dff9e62",
   "metadata": {},
   "source": [
    "Removing deceased actors or actresses as we can't make decisions based on people who can no longer make movies."
   ]
  },
  {
   "cell_type": "code",
   "execution_count": 25,
   "id": "49f7e5ae",
   "metadata": {},
   "outputs": [],
   "source": [
    "names_df = names_df[(names_df.deathYear == '\\\\N')]"
   ]
  },
  {
   "cell_type": "markdown",
   "id": "c8c66f30",
   "metadata": {},
   "source": [
    "Dropping the \"deathYear\" column because it no longer has any valid values."
   ]
  },
  {
   "cell_type": "code",
   "execution_count": 26,
   "id": "ab32a53c",
   "metadata": {},
   "outputs": [],
   "source": [
    "names_df = names_df.drop(columns=['deathYear'], axis=1)"
   ]
  },
  {
   "cell_type": "markdown",
   "id": "b5f5b985",
   "metadata": {},
   "source": [
    "Ensuring any null values are dropped so we are only working with known values."
   ]
  },
  {
   "cell_type": "code",
   "execution_count": 27,
   "id": "459d8bcc",
   "metadata": {},
   "outputs": [],
   "source": [
    "names_df = names_df.dropna(subset=['primaryName'])"
   ]
  },
  {
   "cell_type": "markdown",
   "id": "b8357100",
   "metadata": {},
   "source": [
    "Creates one column for a main profession to make data easier to analyze."
   ]
  },
  {
   "cell_type": "code",
   "execution_count": 28,
   "id": "63a1dfea",
   "metadata": {},
   "outputs": [],
   "source": [
    "def main_profession(professions):\n",
    "    professions_list = professions.split(sep=',')\n",
    "    return professions_list[0]\n",
    "\n",
    "names_df['mainProfession'] = names_df['primaryProfession'].apply(main_profession)"
   ]
  },
  {
   "cell_type": "markdown",
   "id": "ffeae36d",
   "metadata": {},
   "source": [
    "Determining which categories exist and which are important for analysis"
   ]
  },
  {
   "cell_type": "code",
   "execution_count": 29,
   "id": "5c139e50",
   "metadata": {},
   "outputs": [
    {
     "data": {
      "text/plain": [
       "array(['self', 'director', 'producer', 'cinematographer', 'composer',\n",
       "       'editor', 'actor', 'actress', 'writer', 'production_designer',\n",
       "       'archive_footage', 'casting_director', 'archive_sound'],\n",
       "      dtype=object)"
      ]
     },
     "execution_count": 29,
     "metadata": {},
     "output_type": "execute_result"
    }
   ],
   "source": [
    "principals_df['category'].unique()"
   ]
  },
  {
   "cell_type": "markdown",
   "id": "52947b40",
   "metadata": {},
   "source": [
    "Removing less important categories to focus on those with the most impact to help drive analysis and decision making."
   ]
  },
  {
   "cell_type": "code",
   "execution_count": 30,
   "id": "deaa9f01",
   "metadata": {},
   "outputs": [],
   "source": [
    "principals_simplified_df = principals_df[(principals_df['category'].isin(['director', 'actor', 'actress', 'writer']))]"
   ]
  },
  {
   "cell_type": "markdown",
   "id": "d8526fd1",
   "metadata": {},
   "source": [
    "Job category doesn't provide much value so that will be dropped as well"
   ]
  },
  {
   "cell_type": "code",
   "execution_count": 31,
   "id": "81f5350c",
   "metadata": {},
   "outputs": [],
   "source": [
    "principals_cleaned_df = principals_simplified_df.drop(columns=(['job']), axis=1)"
   ]
  },
  {
   "cell_type": "markdown",
   "id": "67cfdd22-e7c4-4960-bb94-4940a118da25",
   "metadata": {},
   "source": [
    "Cleaning up the unwound movies dataframe so we have that without the genres creating duplicates"
   ]
  },
  {
   "cell_type": "code",
   "execution_count": 45,
   "id": "368c5744-0ed0-47fa-8199-33d34ef00cd4",
   "metadata": {},
   "outputs": [],
   "source": [
    "movies_cleaned_df = movies_df.drop(columns=['endYear', 'originalTitle', 'titleType', 'isAdult', 'startYear'], axis=1)"
   ]
  },
  {
   "cell_type": "markdown",
   "id": "2a49cb90-cabc-43b3-b05f-141676698715",
   "metadata": {},
   "source": [
    "#### Questions and Answers <a class=\"anchor\" id=\"questions\"></a>"
   ]
  },
  {
   "cell_type": "markdown",
   "id": "3a5ffd06-1975-4385-97ac-a742ff428bf5",
   "metadata": {},
   "source": [
    "##### 1. How do movie genre trends change over time?\n",
    "Using the unwound genres, we can chart the count of each over the timeline of the whole data set."
   ]
  },
  {
   "cell_type": "code",
   "execution_count": 33,
   "id": "85142e61-b881-4e87-89f2-4a8055482f95",
   "metadata": {},
   "outputs": [
    {
     "data": {
      "text/plain": [
       "[Text(0.5, 1.0, 'Movie Genres over the Years'),\n",
       " Text(0.5, 0, 'Year'),\n",
       " Text(0, 0.5, 'Amount of Movies')]"
      ]
     },
     "execution_count": 33,
     "metadata": {},
     "output_type": "execute_result"
    },
    {
     "data": {
      "image/png": "[encoded data removed]",
      "text/plain": [
       "<Figure size 640x480 with 1 Axes>"
      ]
     },
     "metadata": {},
     "output_type": "display_data"
    }
   ],
   "source": [
    "sns.lineplot(\n",
    "    data=movies_genres_df.groupby(['startYearInt', 'genre']).size().reset_index(name='count'), x='startYearInt', y='count', hue='genre'\n",
    ").set(title='Movie Genres over the Years', xlabel='Year', ylabel='Amount of Movies')"
   ]
  },
  {
   "cell_type": "code",
   "execution_count": 34,
   "id": "cf2b7ca1-c5b6-4591-9bc6-c5062a507053",
   "metadata": {},
   "outputs": [
    {
     "data": {
      "text/plain": [
       "[Text(0.5, 1.0, 'Movie Genres over the Years'),\n",
       " Text(0.5, 0, 'Year'),\n",
       " Text(0, 0.5, 'Genre')]"
      ]
     },
     "execution_count": 34,
     "metadata": {},
     "output_type": "execute_result"
    },
    {
     "data": {
      "image/png": "[encoded data removed]",
      "text/plain": [
       "<Figure size 640x480 with 1 Axes>"
      ]
     },
     "metadata": {},
     "output_type": "display_data"
    }
   ],
   "source": [
    "sns.boxplot(data=movies_genres_df, x='startYearInt', y='genre').set(title='Movie Genres over the Years', xlabel='Year', ylabel='Genre')"
   ]
  },
  {
   "cell_type": "markdown",
   "id": "d4dd706a-dce7-40f3-b69e-1f7ea6d1ed64",
   "metadata": {},
   "source": [
    "##### Answer:\n",
    "Movie genres tend to stay pretty consistent over time, there's some fluctuation, but over the century they have porportionally stayed fairly consistent with a few interesting insights. \n",
    "1. Throughout the years Dramas have consistently reigned supreme\n",
    "2. Documentaries have gotten far more popular in the 21st Century\n",
    "3. Westerns while still being made were at their peak in the 1940s - 1960s\n",
    "4. Animation has the most recent first value due to technologies allowing their creation"
   ]
  },
  {
   "cell_type": "markdown",
   "id": "6587a50b-4471-4c1d-81d0-af4a1120b77f",
   "metadata": {},
   "source": [
    "##### 2. Do certain genres receive more votes or get better ratings?"
   ]
  },
  {
   "cell_type": "code",
   "execution_count": 35,
   "id": "05c12e94-a3e6-4359-8c20-d2f70c89ce56",
   "metadata": {},
   "outputs": [
    {
     "data": {
      "text/plain": [
       "[Text(0.5, 1.0, 'Average Rating by Genre'),\n",
       " Text(0.5, 0, 'Genre'),\n",
       " Text(0, 0.5, 'Average Rating')]"
      ]
     },
     "execution_count": 35,
     "metadata": {},
     "output_type": "execute_result"
    },
    {
     "data": {
      "image/png": "[encoded data removed]",
      "text/plain": [
       "<Figure size 640x480 with 1 Axes>"
      ]
     },
     "metadata": {},
     "output_type": "display_data"
    }
   ],
   "source": [
    "ax = sns.barplot(data=movies_genres_df, x='genre', y='averageRating', hue='genre', estimator='mean', order=['Documentary', 'War', 'Musical', 'Sport', 'Animation', 'Drama', 'Romance', 'Crime', 'Family', 'Western', 'Comedy', 'Mystery', 'Action', 'Sci-Fi Fantasy', 'Horror'])\n",
    "ax.set_xticklabels(ax.get_xticklabels(), rotation=70, ha='right')\n",
    "ax.set(title='Average Rating by Genre', xlabel='Genre', ylabel='Average Rating')"
   ]
  },
  {
   "cell_type": "code",
   "execution_count": 36,
   "id": "9435bd62-2243-4b6f-b264-5e06b1e8f4af",
   "metadata": {},
   "outputs": [
    {
     "data": {
      "text/plain": [
       "[Text(0.5, 1.0, 'Vote Engagement by Genre'),\n",
       " Text(0.5, 0, 'Genre'),\n",
       " Text(0, 0.5, 'Average Amount of Votes')]"
      ]
     },
     "execution_count": 36,
     "metadata": {},
     "output_type": "execute_result"
    },
    {
     "data": {
      "image/png": "[encoded data removed]",
      "text/plain": [
       "<Figure size 640x480 with 1 Axes>"
      ]
     },
     "metadata": {},
     "output_type": "display_data"
    }
   ],
   "source": [
    "ax = sns.barplot(data=movies_genres_df, x='genre', y='numVotes', hue='genre', estimator='mean', order=['Sci-Fi Fantasy', 'Animation', 'Action', 'Mystery', 'Crime', 'Sport', 'Drama', 'Family', 'Comedy', 'War', 'Horror', 'Romance', 'Documentary', 'Musical', 'Western'])\n",
    "ax.set_xticklabels(ax.get_xticklabels(), rotation=70, ha='right')\n",
    "ax.set(title='Vote Engagement by Genre', xlabel='Genre', ylabel='Average Amount of Votes')"
   ]
  },
  {
   "cell_type": "markdown",
   "id": "14c4aaba-9e5d-404d-ad84-b331f7b7f30d",
   "metadata": {},
   "source": [
    "##### Answer:\n",
    "We have some interesting insights on the connection between genres and ratings\n",
    "1. Documentaries have the highest average rating, vs the third lowest amount of ratings, this shows that viewers may be more selective about seeing documentaries, only viewing ones that they already know they have an interest in the topic they are exploring.\n",
    "2. Sci-Fi Fantasy has the highest average vote count, but the second lowest average rating, this shows that viewers are more drawn to seeing Sci-Fi Fantasy movies but not as likely to rate them highly"
   ]
  },
  {
   "cell_type": "markdown",
   "id": "43cf89ae-1ff4-4322-b89a-d26b9a31d4f9",
   "metadata": {},
   "source": [
    "##### 3. How popular are movies broken down by vote count?"
   ]
  },
  {
   "cell_type": "code",
   "execution_count": 46,
   "id": "1ed5bf3d-35ec-4708-9013-7a10967c870e",
   "metadata": {},
   "outputs": [],
   "source": [
    "top_100_movies = movies_cleaned_df.sort_values('numVotes', ascending=False).head(100)"
   ]
  },
  {
   "cell_type": "code",
   "execution_count": 47,
   "id": "138b13f2-2a31-4296-8d17-9fb98699d1b7",
   "metadata": {},
   "outputs": [
    {
     "data": {
      "text/html": [
       "<div>\n",
       "<style scoped>\n",
       "    .dataframe tbody tr th:only-of-type {\n",
       "        vertical-align: middle;\n",
       "    }\n",
       "\n",
       "    .dataframe tbody tr th {\n",
       "        vertical-align: top;\n",
       "    }\n",
       "\n",
       "    .dataframe thead th {\n",
       "        text-align: right;\n",
       "    }\n",
       "</style>\n",
       "<table border=\"1\" class=\"dataframe\">\n",
       "  <thead>\n",
       "    <tr style=\"text-align: right;\">\n",
       "      <th></th>\n",
       "      <th>tconst</th>\n",
       "      <th>primaryTitle</th>\n",
       "      <th>runtimeMinutes</th>\n",
       "      <th>genres</th>\n",
       "      <th>averageRating</th>\n",
       "      <th>numVotes</th>\n",
       "      <th>startYearInt</th>\n",
       "      <th>decade</th>\n",
       "    </tr>\n",
       "  </thead>\n",
       "  <tbody>\n",
       "    <tr>\n",
       "      <th>84104</th>\n",
       "      <td>tt0111161</td>\n",
       "      <td>The Shawshank Redemption</td>\n",
       "      <td>142</td>\n",
       "      <td>Drama</td>\n",
       "      <td>9.3</td>\n",
       "      <td>2920364</td>\n",
       "      <td>1994</td>\n",
       "      <td>1990</td>\n",
       "    </tr>\n",
       "    <tr>\n",
       "      <th>256381</th>\n",
       "      <td>tt0468569</td>\n",
       "      <td>The Dark Knight</td>\n",
       "      <td>152</td>\n",
       "      <td>Action,Crime,Drama</td>\n",
       "      <td>9.0</td>\n",
       "      <td>2901340</td>\n",
       "      <td>2008</td>\n",
       "      <td>2000</td>\n",
       "    </tr>\n",
       "    <tr>\n",
       "      <th>668071</th>\n",
       "      <td>tt1375666</td>\n",
       "      <td>Inception</td>\n",
       "      <td>148</td>\n",
       "      <td>Action,Adventure,Sci-Fi</td>\n",
       "      <td>8.8</td>\n",
       "      <td>2577027</td>\n",
       "      <td>2010</td>\n",
       "      <td>2010</td>\n",
       "    </tr>\n",
       "    <tr>\n",
       "      <th>100875</th>\n",
       "      <td>tt0137523</td>\n",
       "      <td>Fight Club</td>\n",
       "      <td>139</td>\n",
       "      <td>Drama</td>\n",
       "      <td>8.8</td>\n",
       "      <td>2352858</td>\n",
       "      <td>1999</td>\n",
       "      <td>1990</td>\n",
       "    </tr>\n",
       "    <tr>\n",
       "      <th>83004</th>\n",
       "      <td>tt0109830</td>\n",
       "      <td>Forrest Gump</td>\n",
       "      <td>142</td>\n",
       "      <td>Drama,Romance</td>\n",
       "      <td>8.8</td>\n",
       "      <td>2283946</td>\n",
       "      <td>1994</td>\n",
       "      <td>1990</td>\n",
       "    </tr>\n",
       "    <tr>\n",
       "      <th>83887</th>\n",
       "      <td>tt0110912</td>\n",
       "      <td>Pulp Fiction</td>\n",
       "      <td>154</td>\n",
       "      <td>Crime,Drama</td>\n",
       "      <td>8.9</td>\n",
       "      <td>2243960</td>\n",
       "      <td>1994</td>\n",
       "      <td>1990</td>\n",
       "    </tr>\n",
       "    <tr>\n",
       "      <th>406920</th>\n",
       "      <td>tt0816692</td>\n",
       "      <td>Interstellar</td>\n",
       "      <td>169</td>\n",
       "      <td>Adventure,Drama,Sci-Fi</td>\n",
       "      <td>8.7</td>\n",
       "      <td>2135491</td>\n",
       "      <td>2014</td>\n",
       "      <td>2010</td>\n",
       "    </tr>\n",
       "    <tr>\n",
       "      <th>98648</th>\n",
       "      <td>tt0133093</td>\n",
       "      <td>The Matrix</td>\n",
       "      <td>136</td>\n",
       "      <td>Action,Sci-Fi</td>\n",
       "      <td>8.7</td>\n",
       "      <td>2074912</td>\n",
       "      <td>1999</td>\n",
       "      <td>1990</td>\n",
       "    </tr>\n",
       "    <tr>\n",
       "      <th>47572</th>\n",
       "      <td>tt0068646</td>\n",
       "      <td>The Godfather</td>\n",
       "      <td>175</td>\n",
       "      <td>Crime,Drama</td>\n",
       "      <td>9.2</td>\n",
       "      <td>2035121</td>\n",
       "      <td>1972</td>\n",
       "      <td>1970</td>\n",
       "    </tr>\n",
       "    <tr>\n",
       "      <th>91927</th>\n",
       "      <td>tt0120737</td>\n",
       "      <td>The Lord of the Rings: The Fellowship of the Ring</td>\n",
       "      <td>178</td>\n",
       "      <td>Action,Adventure,Drama</td>\n",
       "      <td>8.9</td>\n",
       "      <td>2027903</td>\n",
       "      <td>2001</td>\n",
       "      <td>2000</td>\n",
       "    </tr>\n",
       "    <tr>\n",
       "      <th>116714</th>\n",
       "      <td>tt0167260</td>\n",
       "      <td>The Lord of the Rings: The Return of the King</td>\n",
       "      <td>201</td>\n",
       "      <td>Action,Adventure,Drama</td>\n",
       "      <td>9.0</td>\n",
       "      <td>1999164</td>\n",
       "      <td>2003</td>\n",
       "      <td>2000</td>\n",
       "    </tr>\n",
       "    <tr>\n",
       "      <th>652635</th>\n",
       "      <td>tt1345836</td>\n",
       "      <td>The Dark Knight Rises</td>\n",
       "      <td>164</td>\n",
       "      <td>Action,Drama,Thriller</td>\n",
       "      <td>8.4</td>\n",
       "      <td>1844930</td>\n",
       "      <td>2012</td>\n",
       "      <td>2010</td>\n",
       "    </tr>\n",
       "    <tr>\n",
       "      <th>86674</th>\n",
       "      <td>tt0114369</td>\n",
       "      <td>Se7en</td>\n",
       "      <td>127</td>\n",
       "      <td>Crime,Drama,Mystery</td>\n",
       "      <td>8.6</td>\n",
       "      <td>1819513</td>\n",
       "      <td>1995</td>\n",
       "      <td>1990</td>\n",
       "    </tr>\n",
       "    <tr>\n",
       "      <th>116715</th>\n",
       "      <td>tt0167261</td>\n",
       "      <td>The Lord of the Rings: The Two Towers</td>\n",
       "      <td>179</td>\n",
       "      <td>Action,Adventure,Drama</td>\n",
       "      <td>8.8</td>\n",
       "      <td>1802410</td>\n",
       "      <td>2002</td>\n",
       "      <td>2000</td>\n",
       "    </tr>\n",
       "    <tr>\n",
       "      <th>841419</th>\n",
       "      <td>tt1853728</td>\n",
       "      <td>Django Unchained</td>\n",
       "      <td>165</td>\n",
       "      <td>Comedy,Drama,Western</td>\n",
       "      <td>8.5</td>\n",
       "      <td>1714689</td>\n",
       "      <td>2012</td>\n",
       "      <td>2010</td>\n",
       "    </tr>\n",
       "    <tr>\n",
       "      <th>119298</th>\n",
       "      <td>tt0172495</td>\n",
       "      <td>Gladiator</td>\n",
       "      <td>155</td>\n",
       "      <td>Action,Adventure,Drama</td>\n",
       "      <td>8.5</td>\n",
       "      <td>1641730</td>\n",
       "      <td>2000</td>\n",
       "      <td>2000</td>\n",
       "    </tr>\n",
       "    <tr>\n",
       "      <th>460083</th>\n",
       "      <td>tt0993846</td>\n",
       "      <td>The Wolf of Wall Street</td>\n",
       "      <td>180</td>\n",
       "      <td>Biography,Comedy,Crime</td>\n",
       "      <td>8.2</td>\n",
       "      <td>1604782</td>\n",
       "      <td>2013</td>\n",
       "      <td>2010</td>\n",
       "    </tr>\n",
       "    <tr>\n",
       "      <th>209943</th>\n",
       "      <td>tt0361748</td>\n",
       "      <td>Inglourious Basterds</td>\n",
       "      <td>153</td>\n",
       "      <td>Adventure,Drama,War</td>\n",
       "      <td>8.4</td>\n",
       "      <td>1603333</td>\n",
       "      <td>2009</td>\n",
       "      <td>2000</td>\n",
       "    </tr>\n",
       "    <tr>\n",
       "      <th>215196</th>\n",
       "      <td>tt0372784</td>\n",
       "      <td>Batman Begins</td>\n",
       "      <td>140</td>\n",
       "      <td>Action,Crime,Drama</td>\n",
       "      <td>8.2</td>\n",
       "      <td>1593265</td>\n",
       "      <td>2005</td>\n",
       "      <td>2000</td>\n",
       "    </tr>\n",
       "    <tr>\n",
       "      <th>77226</th>\n",
       "      <td>tt0102926</td>\n",
       "      <td>The Silence of the Lambs</td>\n",
       "      <td>118</td>\n",
       "      <td>Crime,Drama,Thriller</td>\n",
       "      <td>8.6</td>\n",
       "      <td>1565403</td>\n",
       "      <td>1991</td>\n",
       "      <td>1990</td>\n",
       "    </tr>\n",
       "  </tbody>\n",
       "</table>\n",
       "</div>"
      ],
      "text/plain": [
       "           tconst                                       primaryTitle  \\\n",
       "84104   tt0111161                           The Shawshank Redemption   \n",
       "256381  tt0468569                                    The Dark Knight   \n",
       "668071  tt1375666                                          Inception   \n",
       "100875  tt0137523                                         Fight Club   \n",
       "83004   tt0109830                                       Forrest Gump   \n",
       "83887   tt0110912                                       Pulp Fiction   \n",
       "406920  tt0816692                                       Interstellar   \n",
       "98648   tt0133093                                         The Matrix   \n",
       "47572   tt0068646                                      The Godfather   \n",
       "91927   tt0120737  The Lord of the Rings: The Fellowship of the Ring   \n",
       "116714  tt0167260      The Lord of the Rings: The Return of the King   \n",
       "652635  tt1345836                              The Dark Knight Rises   \n",
       "86674   tt0114369                                              Se7en   \n",
       "116715  tt0167261              The Lord of the Rings: The Two Towers   \n",
       "841419  tt1853728                                   Django Unchained   \n",
       "119298  tt0172495                                          Gladiator   \n",
       "460083  tt0993846                            The Wolf of Wall Street   \n",
       "209943  tt0361748                               Inglourious Basterds   \n",
       "215196  tt0372784                                      Batman Begins   \n",
       "77226   tt0102926                           The Silence of the Lambs   \n",
       "\n",
       "        runtimeMinutes                   genres  averageRating  numVotes  \\\n",
       "84104              142                    Drama            9.3   2920364   \n",
       "256381             152       Action,Crime,Drama            9.0   2901340   \n",
       "668071             148  Action,Adventure,Sci-Fi            8.8   2577027   \n",
       "100875             139                    Drama            8.8   2352858   \n",
       "83004              142            Drama,Romance            8.8   2283946   \n",
       "83887              154              Crime,Drama            8.9   2243960   \n",
       "406920             169   Adventure,Drama,Sci-Fi            8.7   2135491   \n",
       "98648              136            Action,Sci-Fi            8.7   2074912   \n",
       "47572              175              Crime,Drama            9.2   2035121   \n",
       "91927              178   Action,Adventure,Drama            8.9   2027903   \n",
       "116714             201   Action,Adventure,Drama            9.0   1999164   \n",
       "652635             164    Action,Drama,Thriller            8.4   1844930   \n",
       "86674              127      Crime,Drama,Mystery            8.6   1819513   \n",
       "116715             179   Action,Adventure,Drama            8.8   1802410   \n",
       "841419             165     Comedy,Drama,Western            8.5   1714689   \n",
       "119298             155   Action,Adventure,Drama            8.5   1641730   \n",
       "460083             180   Biography,Comedy,Crime            8.2   1604782   \n",
       "209943             153      Adventure,Drama,War            8.4   1603333   \n",
       "215196             140       Action,Crime,Drama            8.2   1593265   \n",
       "77226              118     Crime,Drama,Thriller            8.6   1565403   \n",
       "\n",
       "        startYearInt decade  \n",
       "84104           1994   1990  \n",
       "256381          2008   2000  \n",
       "668071          2010   2010  \n",
       "100875          1999   1990  \n",
       "83004           1994   1990  \n",
       "83887           1994   1990  \n",
       "406920          2014   2010  \n",
       "98648           1999   1990  \n",
       "47572           1972   1970  \n",
       "91927           2001   2000  \n",
       "116714          2003   2000  \n",
       "652635          2012   2010  \n",
       "86674           1995   1990  \n",
       "116715          2002   2000  \n",
       "841419          2012   2010  \n",
       "119298          2000   2000  \n",
       "460083          2013   2010  \n",
       "209943          2009   2000  \n",
       "215196          2005   2000  \n",
       "77226           1991   1990  "
      ]
     },
     "execution_count": 47,
     "metadata": {},
     "output_type": "execute_result"
    }
   ],
   "source": [
    "top_100_movies.head(20)"
   ]
  },
  {
   "cell_type": "code",
   "execution_count": 54,
   "id": "2a815963-d0c8-4f25-8687-05f57ef57c53",
   "metadata": {},
   "outputs": [
    {
     "data": {
      "text/html": [
       "<div>\n",
       "<style scoped>\n",
       "    .dataframe tbody tr th:only-of-type {\n",
       "        vertical-align: middle;\n",
       "    }\n",
       "\n",
       "    .dataframe tbody tr th {\n",
       "        vertical-align: top;\n",
       "    }\n",
       "\n",
       "    .dataframe thead th {\n",
       "        text-align: right;\n",
       "    }\n",
       "</style>\n",
       "<table border=\"1\" class=\"dataframe\">\n",
       "  <thead>\n",
       "    <tr style=\"text-align: right;\">\n",
       "      <th></th>\n",
       "      <th>tconst</th>\n",
       "      <th>primaryTitle</th>\n",
       "      <th>runtimeMinutes</th>\n",
       "      <th>genres</th>\n",
       "      <th>averageRating</th>\n",
       "      <th>numVotes</th>\n",
       "      <th>startYearInt</th>\n",
       "      <th>decade</th>\n",
       "    </tr>\n",
       "  </thead>\n",
       "  <tbody>\n",
       "    <tr>\n",
       "      <th>84104</th>\n",
       "      <td>tt0111161</td>\n",
       "      <td>The Shawshank Redemption</td>\n",
       "      <td>142</td>\n",
       "      <td>Drama</td>\n",
       "      <td>9.3</td>\n",
       "      <td>2920364</td>\n",
       "      <td>1994</td>\n",
       "      <td>1990</td>\n",
       "    </tr>\n",
       "    <tr>\n",
       "      <th>47572</th>\n",
       "      <td>tt0068646</td>\n",
       "      <td>The Godfather</td>\n",
       "      <td>175</td>\n",
       "      <td>Crime,Drama</td>\n",
       "      <td>9.2</td>\n",
       "      <td>2035121</td>\n",
       "      <td>1972</td>\n",
       "      <td>1970</td>\n",
       "    </tr>\n",
       "    <tr>\n",
       "      <th>81501</th>\n",
       "      <td>tt0108052</td>\n",
       "      <td>Schindler's List</td>\n",
       "      <td>195</td>\n",
       "      <td>Biography,Drama,History</td>\n",
       "      <td>9.0</td>\n",
       "      <td>1465552</td>\n",
       "      <td>1993</td>\n",
       "      <td>1990</td>\n",
       "    </tr>\n",
       "    <tr>\n",
       "      <th>256381</th>\n",
       "      <td>tt0468569</td>\n",
       "      <td>The Dark Knight</td>\n",
       "      <td>152</td>\n",
       "      <td>Action,Crime,Drama</td>\n",
       "      <td>9.0</td>\n",
       "      <td>2901340</td>\n",
       "      <td>2008</td>\n",
       "      <td>2000</td>\n",
       "    </tr>\n",
       "    <tr>\n",
       "      <th>116714</th>\n",
       "      <td>tt0167260</td>\n",
       "      <td>The Lord of the Rings: The Return of the King</td>\n",
       "      <td>201</td>\n",
       "      <td>Action,Adventure,Drama</td>\n",
       "      <td>9.0</td>\n",
       "      <td>1999164</td>\n",
       "      <td>2003</td>\n",
       "      <td>2000</td>\n",
       "    </tr>\n",
       "    <tr>\n",
       "      <th>50135</th>\n",
       "      <td>tt0071562</td>\n",
       "      <td>The Godfather Part II</td>\n",
       "      <td>202</td>\n",
       "      <td>Crime,Drama</td>\n",
       "      <td>9.0</td>\n",
       "      <td>1377316</td>\n",
       "      <td>1974</td>\n",
       "      <td>1970</td>\n",
       "    </tr>\n",
       "    <tr>\n",
       "      <th>83887</th>\n",
       "      <td>tt0110912</td>\n",
       "      <td>Pulp Fiction</td>\n",
       "      <td>154</td>\n",
       "      <td>Crime,Drama</td>\n",
       "      <td>8.9</td>\n",
       "      <td>2243960</td>\n",
       "      <td>1994</td>\n",
       "      <td>1990</td>\n",
       "    </tr>\n",
       "    <tr>\n",
       "      <th>91927</th>\n",
       "      <td>tt0120737</td>\n",
       "      <td>The Lord of the Rings: The Fellowship of the Ring</td>\n",
       "      <td>178</td>\n",
       "      <td>Action,Adventure,Drama</td>\n",
       "      <td>8.9</td>\n",
       "      <td>2027903</td>\n",
       "      <td>2001</td>\n",
       "      <td>2000</td>\n",
       "    </tr>\n",
       "    <tr>\n",
       "      <th>668071</th>\n",
       "      <td>tt1375666</td>\n",
       "      <td>Inception</td>\n",
       "      <td>148</td>\n",
       "      <td>Action,Adventure,Sci-Fi</td>\n",
       "      <td>8.8</td>\n",
       "      <td>2577027</td>\n",
       "      <td>2010</td>\n",
       "      <td>2010</td>\n",
       "    </tr>\n",
       "    <tr>\n",
       "      <th>83004</th>\n",
       "      <td>tt0109830</td>\n",
       "      <td>Forrest Gump</td>\n",
       "      <td>142</td>\n",
       "      <td>Drama,Romance</td>\n",
       "      <td>8.8</td>\n",
       "      <td>2283946</td>\n",
       "      <td>1994</td>\n",
       "      <td>1990</td>\n",
       "    </tr>\n",
       "  </tbody>\n",
       "</table>\n",
       "</div>"
      ],
      "text/plain": [
       "           tconst                                       primaryTitle  \\\n",
       "84104   tt0111161                           The Shawshank Redemption   \n",
       "47572   tt0068646                                      The Godfather   \n",
       "81501   tt0108052                                   Schindler's List   \n",
       "256381  tt0468569                                    The Dark Knight   \n",
       "116714  tt0167260      The Lord of the Rings: The Return of the King   \n",
       "50135   tt0071562                              The Godfather Part II   \n",
       "83887   tt0110912                                       Pulp Fiction   \n",
       "91927   tt0120737  The Lord of the Rings: The Fellowship of the Ring   \n",
       "668071  tt1375666                                          Inception   \n",
       "83004   tt0109830                                       Forrest Gump   \n",
       "\n",
       "        runtimeMinutes                   genres  averageRating  numVotes  \\\n",
       "84104              142                    Drama            9.3   2920364   \n",
       "47572              175              Crime,Drama            9.2   2035121   \n",
       "81501              195  Biography,Drama,History            9.0   1465552   \n",
       "256381             152       Action,Crime,Drama            9.0   2901340   \n",
       "116714             201   Action,Adventure,Drama            9.0   1999164   \n",
       "50135              202              Crime,Drama            9.0   1377316   \n",
       "83887              154              Crime,Drama            8.9   2243960   \n",
       "91927              178   Action,Adventure,Drama            8.9   2027903   \n",
       "668071             148  Action,Adventure,Sci-Fi            8.8   2577027   \n",
       "83004              142            Drama,Romance            8.8   2283946   \n",
       "\n",
       "        startYearInt decade  \n",
       "84104           1994   1990  \n",
       "47572           1972   1970  \n",
       "81501           1993   1990  \n",
       "256381          2008   2000  \n",
       "116714          2003   2000  \n",
       "50135           1974   1970  \n",
       "83887           1994   1990  \n",
       "91927           2001   2000  \n",
       "668071          2010   2010  \n",
       "83004           1994   1990  "
      ]
     },
     "execution_count": 54,
     "metadata": {},
     "output_type": "execute_result"
    }
   ],
   "source": [
    "top_100_movies.sort_values('averageRating', ascending=False).head(10)"
   ]
  },
  {
   "cell_type": "code",
   "execution_count": 53,
   "id": "a5f77f5d-f705-4b17-bed4-f350dc7ea1de",
   "metadata": {},
   "outputs": [
    {
     "data": {
      "text/html": [
       "<div>\n",
       "<style scoped>\n",
       "    .dataframe tbody tr th:only-of-type {\n",
       "        vertical-align: middle;\n",
       "    }\n",
       "\n",
       "    .dataframe tbody tr th {\n",
       "        vertical-align: top;\n",
       "    }\n",
       "\n",
       "    .dataframe thead th {\n",
       "        text-align: right;\n",
       "    }\n",
       "</style>\n",
       "<table border=\"1\" class=\"dataframe\">\n",
       "  <thead>\n",
       "    <tr style=\"text-align: right;\">\n",
       "      <th></th>\n",
       "      <th>tconst</th>\n",
       "      <th>primaryTitle</th>\n",
       "      <th>runtimeMinutes</th>\n",
       "      <th>genres</th>\n",
       "      <th>averageRating</th>\n",
       "      <th>numVotes</th>\n",
       "      <th>startYearInt</th>\n",
       "      <th>decade</th>\n",
       "    </tr>\n",
       "  </thead>\n",
       "  <tbody>\n",
       "    <tr>\n",
       "      <th>268979</th>\n",
       "      <td>tt0499549</td>\n",
       "      <td>Avatar</td>\n",
       "      <td>162</td>\n",
       "      <td>Action,Adventure,Fantasy</td>\n",
       "      <td>7.9</td>\n",
       "      <td>1396202</td>\n",
       "      <td>2009</td>\n",
       "      <td>2000</td>\n",
       "    </tr>\n",
       "    <tr>\n",
       "      <th>977225</th>\n",
       "      <td>tt2488496</td>\n",
       "      <td>Star Wars: Episode VII - The Force Awakens</td>\n",
       "      <td>138</td>\n",
       "      <td>Action,Adventure,Sci-Fi</td>\n",
       "      <td>7.8</td>\n",
       "      <td>980392</td>\n",
       "      <td>2015</td>\n",
       "      <td>2010</td>\n",
       "    </tr>\n",
       "    <tr>\n",
       "      <th>435379</th>\n",
       "      <td>tt0903624</td>\n",
       "      <td>The Hobbit: An Unexpected Journey</td>\n",
       "      <td>169</td>\n",
       "      <td>Adventure,Fantasy</td>\n",
       "      <td>7.8</td>\n",
       "      <td>879503</td>\n",
       "      <td>2012</td>\n",
       "      <td>2010</td>\n",
       "    </tr>\n",
       "    <tr>\n",
       "      <th>839161</th>\n",
       "      <td>tt1843866</td>\n",
       "      <td>Captain America: The Winter Soldier</td>\n",
       "      <td>136</td>\n",
       "      <td>Action,Adventure,Sci-Fi</td>\n",
       "      <td>7.7</td>\n",
       "      <td>905991</td>\n",
       "      <td>2014</td>\n",
       "      <td>2010</td>\n",
       "    </tr>\n",
       "    <tr>\n",
       "      <th>104997</th>\n",
       "      <td>tt0145487</td>\n",
       "      <td>Spider-Man</td>\n",
       "      <td>121</td>\n",
       "      <td>Action,Adventure,Sci-Fi</td>\n",
       "      <td>7.4</td>\n",
       "      <td>888999</td>\n",
       "      <td>2002</td>\n",
       "      <td>2000</td>\n",
       "    </tr>\n",
       "    <tr>\n",
       "      <th>965903</th>\n",
       "      <td>tt2395427</td>\n",
       "      <td>Avengers: Age of Ultron</td>\n",
       "      <td>141</td>\n",
       "      <td>Action,Adventure,Sci-Fi</td>\n",
       "      <td>7.3</td>\n",
       "      <td>930053</td>\n",
       "      <td>2015</td>\n",
       "      <td>2010</td>\n",
       "    </tr>\n",
       "    <tr>\n",
       "      <th>676567</th>\n",
       "      <td>tt1392170</td>\n",
       "      <td>The Hunger Games</td>\n",
       "      <td>142</td>\n",
       "      <td>Action,Adventure,Sci-Fi</td>\n",
       "      <td>7.2</td>\n",
       "      <td>1013061</td>\n",
       "      <td>2012</td>\n",
       "      <td>2010</td>\n",
       "    </tr>\n",
       "    <tr>\n",
       "      <th>627654</th>\n",
       "      <td>tt1300854</td>\n",
       "      <td>Iron Man 3</td>\n",
       "      <td>130</td>\n",
       "      <td>Action,Adventure,Sci-Fi</td>\n",
       "      <td>7.1</td>\n",
       "      <td>906109</td>\n",
       "      <td>2013</td>\n",
       "      <td>2010</td>\n",
       "    </tr>\n",
       "    <tr>\n",
       "      <th>400714</th>\n",
       "      <td>tt0800369</td>\n",
       "      <td>Thor</td>\n",
       "      <td>115</td>\n",
       "      <td>Action,Fantasy</td>\n",
       "      <td>7.0</td>\n",
       "      <td>907305</td>\n",
       "      <td>2011</td>\n",
       "      <td>2010</td>\n",
       "    </tr>\n",
       "    <tr>\n",
       "      <th>252605</th>\n",
       "      <td>tt0458339</td>\n",
       "      <td>Captain America: The First Avenger</td>\n",
       "      <td>124</td>\n",
       "      <td>Action,Adventure,Sci-Fi</td>\n",
       "      <td>6.9</td>\n",
       "      <td>903997</td>\n",
       "      <td>2011</td>\n",
       "      <td>2010</td>\n",
       "    </tr>\n",
       "  </tbody>\n",
       "</table>\n",
       "</div>"
      ],
      "text/plain": [
       "           tconst                                primaryTitle  runtimeMinutes  \\\n",
       "268979  tt0499549                                      Avatar             162   \n",
       "977225  tt2488496  Star Wars: Episode VII - The Force Awakens             138   \n",
       "435379  tt0903624           The Hobbit: An Unexpected Journey             169   \n",
       "839161  tt1843866         Captain America: The Winter Soldier             136   \n",
       "104997  tt0145487                                  Spider-Man             121   \n",
       "965903  tt2395427                     Avengers: Age of Ultron             141   \n",
       "676567  tt1392170                            The Hunger Games             142   \n",
       "627654  tt1300854                                  Iron Man 3             130   \n",
       "400714  tt0800369                                        Thor             115   \n",
       "252605  tt0458339          Captain America: The First Avenger             124   \n",
       "\n",
       "                          genres  averageRating  numVotes  startYearInt decade  \n",
       "268979  Action,Adventure,Fantasy            7.9   1396202          2009   2000  \n",
       "977225   Action,Adventure,Sci-Fi            7.8    980392          2015   2010  \n",
       "435379         Adventure,Fantasy            7.8    879503          2012   2010  \n",
       "839161   Action,Adventure,Sci-Fi            7.7    905991          2014   2010  \n",
       "104997   Action,Adventure,Sci-Fi            7.4    888999          2002   2000  \n",
       "965903   Action,Adventure,Sci-Fi            7.3    930053          2015   2010  \n",
       "676567   Action,Adventure,Sci-Fi            7.2   1013061          2012   2010  \n",
       "627654   Action,Adventure,Sci-Fi            7.1    906109          2013   2010  \n",
       "400714            Action,Fantasy            7.0    907305          2011   2010  \n",
       "252605   Action,Adventure,Sci-Fi            6.9    903997          2011   2010  "
      ]
     },
     "execution_count": 53,
     "metadata": {},
     "output_type": "execute_result"
    }
   ],
   "source": [
    "top_100_movies.sort_values('averageRating', ascending=False).tail(10)"
   ]
  },
  {
   "cell_type": "markdown",
   "id": "8efc7345-b17a-4c50-9e9c-3082d9fa4928",
   "metadata": {},
   "source": [
    "##### Answer:\n",
    "Isolating out the top 100 most rated movies, and sorting that new dataframe, we can see that people tend to engage very highly with action/adventure/fantasy/sci-fi franchises, and that doesn't necessarily translate to high ratings as shown when we sort by average vote"
   ]
  },
  {
   "cell_type": "markdown",
   "id": "12070bc5-3489-4e46-9a1c-ceb0e951cc3e",
   "metadata": {},
   "source": [
    "##### 4. What principals (actors, actresses, directors, writers) are involved with the most popular and highest rated movies?"
   ]
  },
  {
   "cell_type": "markdown",
   "id": "72e5c0a2-dc1a-4daf-ac4b-bfbb76e50f65",
   "metadata": {},
   "source": [
    "##### Answer:"
   ]
  },
  {
   "cell_type": "markdown",
   "id": "4c22bc2f-beea-449d-a546-fe4623d42784",
   "metadata": {},
   "source": [
    "##### 5. Do any correlations exist between movies aspects (e.g. Total Votes, Ratings, Runtime, etc.)"
   ]
  },
  {
   "cell_type": "code",
   "execution_count": 40,
   "id": "0f1344f7-8a4e-4fa2-98b8-403bc7ca83c2",
   "metadata": {},
   "outputs": [
    {
     "data": {
      "text/html": [
       "<div>\n",
       "<style scoped>\n",
       "    .dataframe tbody tr th:only-of-type {\n",
       "        vertical-align: middle;\n",
       "    }\n",
       "\n",
       "    .dataframe tbody tr th {\n",
       "        vertical-align: top;\n",
       "    }\n",
       "\n",
       "    .dataframe thead th {\n",
       "        text-align: right;\n",
       "    }\n",
       "</style>\n",
       "<table border=\"1\" class=\"dataframe\">\n",
       "  <thead>\n",
       "    <tr style=\"text-align: right;\">\n",
       "      <th></th>\n",
       "      <th>numVotes</th>\n",
       "      <th>averageRating</th>\n",
       "      <th>runtimeMinutes</th>\n",
       "      <th>startYearInt</th>\n",
       "    </tr>\n",
       "  </thead>\n",
       "  <tbody>\n",
       "    <tr>\n",
       "      <th>numVotes</th>\n",
       "      <td>1.000000</td>\n",
       "      <td>0.157131</td>\n",
       "      <td>0.130340</td>\n",
       "      <td>0.047362</td>\n",
       "    </tr>\n",
       "    <tr>\n",
       "      <th>averageRating</th>\n",
       "      <td>0.157131</td>\n",
       "      <td>1.000000</td>\n",
       "      <td>0.217649</td>\n",
       "      <td>-0.155415</td>\n",
       "    </tr>\n",
       "    <tr>\n",
       "      <th>runtimeMinutes</th>\n",
       "      <td>0.130340</td>\n",
       "      <td>0.217649</td>\n",
       "      <td>1.000000</td>\n",
       "      <td>0.186383</td>\n",
       "    </tr>\n",
       "    <tr>\n",
       "      <th>startYearInt</th>\n",
       "      <td>0.047362</td>\n",
       "      <td>-0.155415</td>\n",
       "      <td>0.186383</td>\n",
       "      <td>1.000000</td>\n",
       "    </tr>\n",
       "  </tbody>\n",
       "</table>\n",
       "</div>"
      ],
      "text/plain": [
       "                numVotes  averageRating  runtimeMinutes  startYearInt\n",
       "numVotes        1.000000       0.157131        0.130340      0.047362\n",
       "averageRating   0.157131       1.000000        0.217649     -0.155415\n",
       "runtimeMinutes  0.130340       0.217649        1.000000      0.186383\n",
       "startYearInt    0.047362      -0.155415        0.186383      1.000000"
      ]
     },
     "execution_count": 40,
     "metadata": {},
     "output_type": "execute_result"
    }
   ],
   "source": [
    "movies_genres_df[['numVotes', 'averageRating', 'runtimeMinutes', 'startYearInt']].corr()"
   ]
  },
  {
   "cell_type": "code",
   "execution_count": 41,
   "id": "d436a55c-b7fa-4769-be0f-0439032f7489",
   "metadata": {},
   "outputs": [],
   "source": [
    "movies_noshort_df = movies_df[movies_df.runtimeMinutes > 90]"
   ]
  },
  {
   "cell_type": "code",
   "execution_count": 42,
   "id": "ef98eafe-325d-4aa3-9c19-cb200c1d820f",
   "metadata": {},
   "outputs": [
    {
     "data": {
      "text/html": [
       "<div>\n",
       "<style scoped>\n",
       "    .dataframe tbody tr th:only-of-type {\n",
       "        vertical-align: middle;\n",
       "    }\n",
       "\n",
       "    .dataframe tbody tr th {\n",
       "        vertical-align: top;\n",
       "    }\n",
       "\n",
       "    .dataframe thead th {\n",
       "        text-align: right;\n",
       "    }\n",
       "</style>\n",
       "<table border=\"1\" class=\"dataframe\">\n",
       "  <thead>\n",
       "    <tr style=\"text-align: right;\">\n",
       "      <th></th>\n",
       "      <th>numVotes</th>\n",
       "      <th>averageRating</th>\n",
       "      <th>runtimeMinutes</th>\n",
       "      <th>startYearInt</th>\n",
       "    </tr>\n",
       "  </thead>\n",
       "  <tbody>\n",
       "    <tr>\n",
       "      <th>numVotes</th>\n",
       "      <td>1.000000</td>\n",
       "      <td>0.155389</td>\n",
       "      <td>0.093279</td>\n",
       "      <td>0.028705</td>\n",
       "    </tr>\n",
       "    <tr>\n",
       "      <th>averageRating</th>\n",
       "      <td>0.155389</td>\n",
       "      <td>1.000000</td>\n",
       "      <td>0.220279</td>\n",
       "      <td>-0.157528</td>\n",
       "    </tr>\n",
       "    <tr>\n",
       "      <th>runtimeMinutes</th>\n",
       "      <td>0.093279</td>\n",
       "      <td>0.220279</td>\n",
       "      <td>1.000000</td>\n",
       "      <td>0.034167</td>\n",
       "    </tr>\n",
       "    <tr>\n",
       "      <th>startYearInt</th>\n",
       "      <td>0.028705</td>\n",
       "      <td>-0.157528</td>\n",
       "      <td>0.034167</td>\n",
       "      <td>1.000000</td>\n",
       "    </tr>\n",
       "  </tbody>\n",
       "</table>\n",
       "</div>"
      ],
      "text/plain": [
       "                numVotes  averageRating  runtimeMinutes  startYearInt\n",
       "numVotes        1.000000       0.155389        0.093279      0.028705\n",
       "averageRating   0.155389       1.000000        0.220279     -0.157528\n",
       "runtimeMinutes  0.093279       0.220279        1.000000      0.034167\n",
       "startYearInt    0.028705      -0.157528        0.034167      1.000000"
      ]
     },
     "execution_count": 42,
     "metadata": {},
     "output_type": "execute_result"
    }
   ],
   "source": [
    "movies_noshort_df[['numVotes', 'averageRating', 'runtimeMinutes', 'startYearInt']].corr()"
   ]
  },
  {
   "cell_type": "markdown",
   "id": "3eeb5d51-489d-4cac-af50-444efe6cea6d",
   "metadata": {},
   "source": [
    "##### Answer:\n",
    "The highest correlation is for Run Time and Average Rating, but that is still very low at a .22, it rises ever so slightly when anything less than 1.5 hours is removed but still very low correlation"
   ]
  }
 ],
 "metadata": {
  "kernelspec": {
   "display_name": "Python 3 (ipykernel)",
   "language": "python",
   "name": "python3"
  },
  "language_info": {
   "codemirror_mode": {
    "name": "ipython",
    "version": 3
   },
   "file_extension": ".py",
   "mimetype": "text/x-python",
   "name": "python",
   "nbconvert_exporter": "python",
   "pygments_lexer": "ipython3",
   "version": "3.11.7"
  }
 },
 "nbformat": 4,
 "nbformat_minor": 5
}
